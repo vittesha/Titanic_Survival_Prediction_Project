{
  "nbformat": 4,
  "nbformat_minor": 0,
  "metadata": {
    "colab": {
      "name": "DecisionTree.ipynb",
      "provenance": [],
      "authorship_tag": "ABX9TyP0ezEdecoXPCnAJvj+jsme"
    },
    "kernelspec": {
      "name": "python3",
      "display_name": "Python 3"
    }
  },
  "cells": [
    {
      "cell_type": "markdown",
      "metadata": {
        "id": "pMBbr0acgRpq"
      },
      "source": [
        "###Decision Tree\r\n"
      ]
    },
    {
      "cell_type": "code",
      "metadata": {
        "id": "7G_iDnqlgmhb"
      },
      "source": [
        "import pandas as pd\r\n",
        "import numpy as np\r\n",
        "from sklearn.model_selection import GridSearchCV\r\n",
        "\r\n",
        "dataset=pd.read_csv(\"/content/Social_Network_Ads.csv\")"
      ],
      "execution_count": 1,
      "outputs": []
    },
    {
      "cell_type": "code",
      "metadata": {
        "colab": {
          "base_uri": "https://localhost:8080/"
        },
        "id": "NLxxRkpLgRHT",
        "outputId": "2d987cf9-9d93-4e55-fc61-3e04ab0934ba"
      },
      "source": [
        "from sklearn.tree import DecisionTreeRegressor\r\n",
        "print(DecisionTreeRegressor())"
      ],
      "execution_count": 2,
      "outputs": [
        {
          "output_type": "stream",
          "text": [
            "DecisionTreeRegressor(ccp_alpha=0.0, criterion='mse', max_depth=2,\n",
            "                      max_features=None, max_leaf_nodes=None,\n",
            "                      min_impurity_decrease=0.0, min_impurity_split=None,\n",
            "                      min_samples_leaf=1, min_samples_split=2,\n",
            "                      min_weight_fraction_leaf=0.0, presort='deprecated',\n",
            "                      random_state=None, splitter='best')\n"
          ],
          "name": "stdout"
        }
      ]
    },
    {
      "cell_type": "code",
      "metadata": {
        "colab": {
          "base_uri": "https://localhost:8080/"
        },
        "id": "7_x8DRxLiyJi",
        "outputId": "80f1e3e7-f996-4c27-e8ba-b099c2d51eba"
      },
      "source": [
        "from sklearn import metrics\r\n",
        "from sklearn.model_selection import train_test_split\r\n",
        "dataset.columns"
      ],
      "execution_count": 3,
      "outputs": [
        {
          "output_type": "execute_result",
          "data": {
            "text/plain": [
              "Index(['User ID', 'Gender', 'Age', 'EstimatedSalary', 'Purchased'], dtype='object')"
            ]
          },
          "metadata": {
            "tags": []
          },
          "execution_count": 3
        }
      ]
    },
    {
      "cell_type": "code",
      "metadata": {
        "id": "FJoZ5jMsjNvE"
      },
      "source": [
        "dataset[\"Gender\"].replace({\"Male\": 0, \"Female\": 1}, inplace=True)"
      ],
      "execution_count": 4,
      "outputs": []
    },
    {
      "cell_type": "code",
      "metadata": {
        "id": "3r1b-OWji8Qm"
      },
      "source": [
        "ind_var=['User ID', 'Gender','Age', 'EstimatedSalary']\r\n",
        "data= dataset[ind_var]\r\n",
        "label=dataset.Purchased"
      ],
      "execution_count": 5,
      "outputs": []
    },
    {
      "cell_type": "code",
      "metadata": {
        "id": "253r0lXIUqDx"
      },
      "source": [
        "train_data, test_data, train_label, test_label= train_test_split(data, label, test_size=0.25)"
      ],
      "execution_count": 6,
      "outputs": []
    },
    {
      "cell_type": "code",
      "metadata": {
        "colab": {
          "base_uri": "https://localhost:8080/"
        },
        "id": "eIvWzJnVjDuh",
        "outputId": "d01e3837-6e1b-46b5-d6c4-2429a24594fe"
      },
      "source": [
        "train_data.shape, test_data.shape, train_label.shape, test_label.shape"
      ],
      "execution_count": 7,
      "outputs": [
        {
          "output_type": "execute_result",
          "data": {
            "text/plain": [
              "((300, 4), (100, 4), (300,), (100,))"
            ]
          },
          "metadata": {
            "tags": []
          },
          "execution_count": 7
        }
      ]
    },
    {
      "cell_type": "code",
      "metadata": {
        "id": "6bZpQpFDg3Kb"
      },
      "source": [
        "regressor= DecisionTreeRegressor(max_depth=2)\r\n"
      ],
      "execution_count": 9,
      "outputs": []
    },
    {
      "cell_type": "code",
      "metadata": {
        "id": "GqR5XnRGkaEh"
      },
      "source": [
        "regressor.fit(train_data, train_label)\r\n",
        "predicted_test_label=regressor.predict(test_data)"
      ],
      "execution_count": 10,
      "outputs": []
    },
    {
      "cell_type": "code",
      "metadata": {
        "colab": {
          "base_uri": "https://localhost:8080/"
        },
        "id": "8I8mIdIPjhDa",
        "outputId": "af4bec6d-f6f1-4c16-fabb-4b972e7c35d4"
      },
      "source": [
        "print('Mean Absolute Error: ', metrics.mean_absolute_error(test_label, predicted_test_label))\r\n",
        "print('Mean Squared Error: ', metrics.mean_squared_error(test_label, predicted_test_label))\r\n",
        "print('Root Mean Squared Error: ', np.sqrt(metrics.mean_squared_error(test_label, predicted_test_label)))\r\n"
      ],
      "execution_count": 11,
      "outputs": [
        {
          "output_type": "stream",
          "text": [
            "Mean Absolute Error:  0.15793018745959925\n",
            "Mean Squared Error:  0.09729611687796921\n",
            "Root Mean Squared Error:  0.3119232547886887\n"
          ],
          "name": "stdout"
        }
      ]
    },
    {
      "cell_type": "code",
      "metadata": {
        "id": "SL3nsOCokZ-E"
      },
      "source": [
        ""
      ],
      "execution_count": null,
      "outputs": []
    }
  ]
}