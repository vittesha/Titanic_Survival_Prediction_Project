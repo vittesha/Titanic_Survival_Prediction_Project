{
  "nbformat": 4,
  "nbformat_minor": 0,
  "metadata": {
    "colab": {
      "name": "Copy of TitanicSurvivalPrediction.ipynb",
      "provenance": [],
      "collapsed_sections": [],
      "include_colab_link": true
    },
    "kernelspec": {
      "name": "python3",
      "display_name": "Python 3"
    }
  },
  "cells": [
    {
      "cell_type": "markdown",
      "metadata": {
        "id": "view-in-github",
        "colab_type": "text"
      },
      "source": [
        "<a href=\"https://colab.research.google.com/github/vittesha/Titanic_Survival_Prediction_Project/blob/main/TitanicSurvivalPrediction.ipynb\" target=\"_parent\"><img src=\"https://colab.research.google.com/assets/colab-badge.svg\" alt=\"Open In Colab\"/></a>"
      ]
    },
    {
      "cell_type": "markdown",
      "metadata": {
        "id": "pKJfoJGTuDFF"
      },
      "source": [
        "#Titanic Survival Prediction Project"
      ]
    },
    {
      "cell_type": "code",
      "metadata": {
        "id": "3YZZjYrBuCNv"
      },
      "source": [
        "import pandas as pd\r\n",
        "import numpy as np\r\n",
        "\r\n",
        "test=pd.read_csv('/content/test.csv')\r\n",
        "train=pd.read_csv('/content/train.csv')\r\n",
        "test_label_data= pd.read_csv('/content/gender_submission.csv')"
      ],
      "execution_count": 116,
      "outputs": []
    },
    {
      "cell_type": "code",
      "metadata": {
        "colab": {
          "base_uri": "https://localhost:8080/",
          "height": 196
        },
        "id": "HrSwAn4W6HrG",
        "outputId": "b2b0c0af-0782-4dd2-a673-9ae5c8d4eadd"
      },
      "source": [
        "test.head(5)"
      ],
      "execution_count": 117,
      "outputs": [
        {
          "output_type": "execute_result",
          "data": {
            "text/html": [
              "<div>\n",
              "<style scoped>\n",
              "    .dataframe tbody tr th:only-of-type {\n",
              "        vertical-align: middle;\n",
              "    }\n",
              "\n",
              "    .dataframe tbody tr th {\n",
              "        vertical-align: top;\n",
              "    }\n",
              "\n",
              "    .dataframe thead th {\n",
              "        text-align: right;\n",
              "    }\n",
              "</style>\n",
              "<table border=\"1\" class=\"dataframe\">\n",
              "  <thead>\n",
              "    <tr style=\"text-align: right;\">\n",
              "      <th></th>\n",
              "      <th>PassengerId</th>\n",
              "      <th>Pclass</th>\n",
              "      <th>Name</th>\n",
              "      <th>Sex</th>\n",
              "      <th>Age</th>\n",
              "      <th>SibSp</th>\n",
              "      <th>Parch</th>\n",
              "      <th>Ticket</th>\n",
              "      <th>Fare</th>\n",
              "      <th>Cabin</th>\n",
              "      <th>Embarked</th>\n",
              "    </tr>\n",
              "  </thead>\n",
              "  <tbody>\n",
              "    <tr>\n",
              "      <th>0</th>\n",
              "      <td>892</td>\n",
              "      <td>3</td>\n",
              "      <td>Kelly, Mr. James</td>\n",
              "      <td>male</td>\n",
              "      <td>34.5</td>\n",
              "      <td>0</td>\n",
              "      <td>0</td>\n",
              "      <td>330911</td>\n",
              "      <td>7.8292</td>\n",
              "      <td>NaN</td>\n",
              "      <td>Q</td>\n",
              "    </tr>\n",
              "    <tr>\n",
              "      <th>1</th>\n",
              "      <td>893</td>\n",
              "      <td>3</td>\n",
              "      <td>Wilkes, Mrs. James (Ellen Needs)</td>\n",
              "      <td>female</td>\n",
              "      <td>47.0</td>\n",
              "      <td>1</td>\n",
              "      <td>0</td>\n",
              "      <td>363272</td>\n",
              "      <td>7.0000</td>\n",
              "      <td>NaN</td>\n",
              "      <td>S</td>\n",
              "    </tr>\n",
              "    <tr>\n",
              "      <th>2</th>\n",
              "      <td>894</td>\n",
              "      <td>2</td>\n",
              "      <td>Myles, Mr. Thomas Francis</td>\n",
              "      <td>male</td>\n",
              "      <td>62.0</td>\n",
              "      <td>0</td>\n",
              "      <td>0</td>\n",
              "      <td>240276</td>\n",
              "      <td>9.6875</td>\n",
              "      <td>NaN</td>\n",
              "      <td>Q</td>\n",
              "    </tr>\n",
              "    <tr>\n",
              "      <th>3</th>\n",
              "      <td>895</td>\n",
              "      <td>3</td>\n",
              "      <td>Wirz, Mr. Albert</td>\n",
              "      <td>male</td>\n",
              "      <td>27.0</td>\n",
              "      <td>0</td>\n",
              "      <td>0</td>\n",
              "      <td>315154</td>\n",
              "      <td>8.6625</td>\n",
              "      <td>NaN</td>\n",
              "      <td>S</td>\n",
              "    </tr>\n",
              "    <tr>\n",
              "      <th>4</th>\n",
              "      <td>896</td>\n",
              "      <td>3</td>\n",
              "      <td>Hirvonen, Mrs. Alexander (Helga E Lindqvist)</td>\n",
              "      <td>female</td>\n",
              "      <td>22.0</td>\n",
              "      <td>1</td>\n",
              "      <td>1</td>\n",
              "      <td>3101298</td>\n",
              "      <td>12.2875</td>\n",
              "      <td>NaN</td>\n",
              "      <td>S</td>\n",
              "    </tr>\n",
              "  </tbody>\n",
              "</table>\n",
              "</div>"
            ],
            "text/plain": [
              "   PassengerId  Pclass  ... Cabin Embarked\n",
              "0          892       3  ...   NaN        Q\n",
              "1          893       3  ...   NaN        S\n",
              "2          894       2  ...   NaN        Q\n",
              "3          895       3  ...   NaN        S\n",
              "4          896       3  ...   NaN        S\n",
              "\n",
              "[5 rows x 11 columns]"
            ]
          },
          "metadata": {
            "tags": []
          },
          "execution_count": 117
        }
      ]
    },
    {
      "cell_type": "code",
      "metadata": {
        "colab": {
          "base_uri": "https://localhost:8080/",
          "height": 345
        },
        "id": "eUfyNBOByzdo",
        "outputId": "ef6abd4d-05dc-4bf6-9584-bc76d574d218"
      },
      "source": [
        "train.head(10)"
      ],
      "execution_count": 118,
      "outputs": [
        {
          "output_type": "execute_result",
          "data": {
            "text/html": [
              "<div>\n",
              "<style scoped>\n",
              "    .dataframe tbody tr th:only-of-type {\n",
              "        vertical-align: middle;\n",
              "    }\n",
              "\n",
              "    .dataframe tbody tr th {\n",
              "        vertical-align: top;\n",
              "    }\n",
              "\n",
              "    .dataframe thead th {\n",
              "        text-align: right;\n",
              "    }\n",
              "</style>\n",
              "<table border=\"1\" class=\"dataframe\">\n",
              "  <thead>\n",
              "    <tr style=\"text-align: right;\">\n",
              "      <th></th>\n",
              "      <th>PassengerId</th>\n",
              "      <th>Survived</th>\n",
              "      <th>Pclass</th>\n",
              "      <th>Name</th>\n",
              "      <th>Sex</th>\n",
              "      <th>Age</th>\n",
              "      <th>SibSp</th>\n",
              "      <th>Parch</th>\n",
              "      <th>Ticket</th>\n",
              "      <th>Fare</th>\n",
              "      <th>Cabin</th>\n",
              "      <th>Embarked</th>\n",
              "    </tr>\n",
              "  </thead>\n",
              "  <tbody>\n",
              "    <tr>\n",
              "      <th>0</th>\n",
              "      <td>1</td>\n",
              "      <td>0</td>\n",
              "      <td>3</td>\n",
              "      <td>Braund, Mr. Owen Harris</td>\n",
              "      <td>male</td>\n",
              "      <td>22.0</td>\n",
              "      <td>1</td>\n",
              "      <td>0</td>\n",
              "      <td>A/5 21171</td>\n",
              "      <td>7.2500</td>\n",
              "      <td>NaN</td>\n",
              "      <td>S</td>\n",
              "    </tr>\n",
              "    <tr>\n",
              "      <th>1</th>\n",
              "      <td>2</td>\n",
              "      <td>1</td>\n",
              "      <td>1</td>\n",
              "      <td>Cumings, Mrs. John Bradley (Florence Briggs Th...</td>\n",
              "      <td>female</td>\n",
              "      <td>38.0</td>\n",
              "      <td>1</td>\n",
              "      <td>0</td>\n",
              "      <td>PC 17599</td>\n",
              "      <td>71.2833</td>\n",
              "      <td>C85</td>\n",
              "      <td>C</td>\n",
              "    </tr>\n",
              "    <tr>\n",
              "      <th>2</th>\n",
              "      <td>3</td>\n",
              "      <td>1</td>\n",
              "      <td>3</td>\n",
              "      <td>Heikkinen, Miss. Laina</td>\n",
              "      <td>female</td>\n",
              "      <td>26.0</td>\n",
              "      <td>0</td>\n",
              "      <td>0</td>\n",
              "      <td>STON/O2. 3101282</td>\n",
              "      <td>7.9250</td>\n",
              "      <td>NaN</td>\n",
              "      <td>S</td>\n",
              "    </tr>\n",
              "    <tr>\n",
              "      <th>3</th>\n",
              "      <td>4</td>\n",
              "      <td>1</td>\n",
              "      <td>1</td>\n",
              "      <td>Futrelle, Mrs. Jacques Heath (Lily May Peel)</td>\n",
              "      <td>female</td>\n",
              "      <td>35.0</td>\n",
              "      <td>1</td>\n",
              "      <td>0</td>\n",
              "      <td>113803</td>\n",
              "      <td>53.1000</td>\n",
              "      <td>C123</td>\n",
              "      <td>S</td>\n",
              "    </tr>\n",
              "    <tr>\n",
              "      <th>4</th>\n",
              "      <td>5</td>\n",
              "      <td>0</td>\n",
              "      <td>3</td>\n",
              "      <td>Allen, Mr. William Henry</td>\n",
              "      <td>male</td>\n",
              "      <td>35.0</td>\n",
              "      <td>0</td>\n",
              "      <td>0</td>\n",
              "      <td>373450</td>\n",
              "      <td>8.0500</td>\n",
              "      <td>NaN</td>\n",
              "      <td>S</td>\n",
              "    </tr>\n",
              "    <tr>\n",
              "      <th>5</th>\n",
              "      <td>6</td>\n",
              "      <td>0</td>\n",
              "      <td>3</td>\n",
              "      <td>Moran, Mr. James</td>\n",
              "      <td>male</td>\n",
              "      <td>NaN</td>\n",
              "      <td>0</td>\n",
              "      <td>0</td>\n",
              "      <td>330877</td>\n",
              "      <td>8.4583</td>\n",
              "      <td>NaN</td>\n",
              "      <td>Q</td>\n",
              "    </tr>\n",
              "    <tr>\n",
              "      <th>6</th>\n",
              "      <td>7</td>\n",
              "      <td>0</td>\n",
              "      <td>1</td>\n",
              "      <td>McCarthy, Mr. Timothy J</td>\n",
              "      <td>male</td>\n",
              "      <td>54.0</td>\n",
              "      <td>0</td>\n",
              "      <td>0</td>\n",
              "      <td>17463</td>\n",
              "      <td>51.8625</td>\n",
              "      <td>E46</td>\n",
              "      <td>S</td>\n",
              "    </tr>\n",
              "    <tr>\n",
              "      <th>7</th>\n",
              "      <td>8</td>\n",
              "      <td>0</td>\n",
              "      <td>3</td>\n",
              "      <td>Palsson, Master. Gosta Leonard</td>\n",
              "      <td>male</td>\n",
              "      <td>2.0</td>\n",
              "      <td>3</td>\n",
              "      <td>1</td>\n",
              "      <td>349909</td>\n",
              "      <td>21.0750</td>\n",
              "      <td>NaN</td>\n",
              "      <td>S</td>\n",
              "    </tr>\n",
              "    <tr>\n",
              "      <th>8</th>\n",
              "      <td>9</td>\n",
              "      <td>1</td>\n",
              "      <td>3</td>\n",
              "      <td>Johnson, Mrs. Oscar W (Elisabeth Vilhelmina Berg)</td>\n",
              "      <td>female</td>\n",
              "      <td>27.0</td>\n",
              "      <td>0</td>\n",
              "      <td>2</td>\n",
              "      <td>347742</td>\n",
              "      <td>11.1333</td>\n",
              "      <td>NaN</td>\n",
              "      <td>S</td>\n",
              "    </tr>\n",
              "    <tr>\n",
              "      <th>9</th>\n",
              "      <td>10</td>\n",
              "      <td>1</td>\n",
              "      <td>2</td>\n",
              "      <td>Nasser, Mrs. Nicholas (Adele Achem)</td>\n",
              "      <td>female</td>\n",
              "      <td>14.0</td>\n",
              "      <td>1</td>\n",
              "      <td>0</td>\n",
              "      <td>237736</td>\n",
              "      <td>30.0708</td>\n",
              "      <td>NaN</td>\n",
              "      <td>C</td>\n",
              "    </tr>\n",
              "  </tbody>\n",
              "</table>\n",
              "</div>"
            ],
            "text/plain": [
              "   PassengerId  Survived  Pclass  ...     Fare Cabin  Embarked\n",
              "0            1         0       3  ...   7.2500   NaN         S\n",
              "1            2         1       1  ...  71.2833   C85         C\n",
              "2            3         1       3  ...   7.9250   NaN         S\n",
              "3            4         1       1  ...  53.1000  C123         S\n",
              "4            5         0       3  ...   8.0500   NaN         S\n",
              "5            6         0       3  ...   8.4583   NaN         Q\n",
              "6            7         0       1  ...  51.8625   E46         S\n",
              "7            8         0       3  ...  21.0750   NaN         S\n",
              "8            9         1       3  ...  11.1333   NaN         S\n",
              "9           10         1       2  ...  30.0708   NaN         C\n",
              "\n",
              "[10 rows x 12 columns]"
            ]
          },
          "metadata": {
            "tags": []
          },
          "execution_count": 118
        }
      ]
    },
    {
      "cell_type": "code",
      "metadata": {
        "colab": {
          "base_uri": "https://localhost:8080/"
        },
        "id": "rEjwxXxyy8WW",
        "outputId": "9d51d5d6-b67b-4836-d292-c9fc02dc8d39"
      },
      "source": [
        "train.info()"
      ],
      "execution_count": 119,
      "outputs": [
        {
          "output_type": "stream",
          "text": [
            "<class 'pandas.core.frame.DataFrame'>\n",
            "RangeIndex: 891 entries, 0 to 890\n",
            "Data columns (total 12 columns):\n",
            " #   Column       Non-Null Count  Dtype  \n",
            "---  ------       --------------  -----  \n",
            " 0   PassengerId  891 non-null    int64  \n",
            " 1   Survived     891 non-null    int64  \n",
            " 2   Pclass       891 non-null    int64  \n",
            " 3   Name         891 non-null    object \n",
            " 4   Sex          891 non-null    object \n",
            " 5   Age          714 non-null    float64\n",
            " 6   SibSp        891 non-null    int64  \n",
            " 7   Parch        891 non-null    int64  \n",
            " 8   Ticket       891 non-null    object \n",
            " 9   Fare         891 non-null    float64\n",
            " 10  Cabin        204 non-null    object \n",
            " 11  Embarked     889 non-null    object \n",
            "dtypes: float64(2), int64(5), object(5)\n",
            "memory usage: 83.7+ KB\n"
          ],
          "name": "stdout"
        }
      ]
    },
    {
      "cell_type": "code",
      "metadata": {
        "colab": {
          "base_uri": "https://localhost:8080/",
          "height": 196
        },
        "id": "MHj3N_Yny8cb",
        "outputId": "8940cc14-c4bf-4232-d485-419069f4c22d"
      },
      "source": [
        "train.head(5)"
      ],
      "execution_count": 120,
      "outputs": [
        {
          "output_type": "execute_result",
          "data": {
            "text/html": [
              "<div>\n",
              "<style scoped>\n",
              "    .dataframe tbody tr th:only-of-type {\n",
              "        vertical-align: middle;\n",
              "    }\n",
              "\n",
              "    .dataframe tbody tr th {\n",
              "        vertical-align: top;\n",
              "    }\n",
              "\n",
              "    .dataframe thead th {\n",
              "        text-align: right;\n",
              "    }\n",
              "</style>\n",
              "<table border=\"1\" class=\"dataframe\">\n",
              "  <thead>\n",
              "    <tr style=\"text-align: right;\">\n",
              "      <th></th>\n",
              "      <th>PassengerId</th>\n",
              "      <th>Survived</th>\n",
              "      <th>Pclass</th>\n",
              "      <th>Name</th>\n",
              "      <th>Sex</th>\n",
              "      <th>Age</th>\n",
              "      <th>SibSp</th>\n",
              "      <th>Parch</th>\n",
              "      <th>Ticket</th>\n",
              "      <th>Fare</th>\n",
              "      <th>Cabin</th>\n",
              "      <th>Embarked</th>\n",
              "    </tr>\n",
              "  </thead>\n",
              "  <tbody>\n",
              "    <tr>\n",
              "      <th>0</th>\n",
              "      <td>1</td>\n",
              "      <td>0</td>\n",
              "      <td>3</td>\n",
              "      <td>Braund, Mr. Owen Harris</td>\n",
              "      <td>male</td>\n",
              "      <td>22.0</td>\n",
              "      <td>1</td>\n",
              "      <td>0</td>\n",
              "      <td>A/5 21171</td>\n",
              "      <td>7.2500</td>\n",
              "      <td>NaN</td>\n",
              "      <td>S</td>\n",
              "    </tr>\n",
              "    <tr>\n",
              "      <th>1</th>\n",
              "      <td>2</td>\n",
              "      <td>1</td>\n",
              "      <td>1</td>\n",
              "      <td>Cumings, Mrs. John Bradley (Florence Briggs Th...</td>\n",
              "      <td>female</td>\n",
              "      <td>38.0</td>\n",
              "      <td>1</td>\n",
              "      <td>0</td>\n",
              "      <td>PC 17599</td>\n",
              "      <td>71.2833</td>\n",
              "      <td>C85</td>\n",
              "      <td>C</td>\n",
              "    </tr>\n",
              "    <tr>\n",
              "      <th>2</th>\n",
              "      <td>3</td>\n",
              "      <td>1</td>\n",
              "      <td>3</td>\n",
              "      <td>Heikkinen, Miss. Laina</td>\n",
              "      <td>female</td>\n",
              "      <td>26.0</td>\n",
              "      <td>0</td>\n",
              "      <td>0</td>\n",
              "      <td>STON/O2. 3101282</td>\n",
              "      <td>7.9250</td>\n",
              "      <td>NaN</td>\n",
              "      <td>S</td>\n",
              "    </tr>\n",
              "    <tr>\n",
              "      <th>3</th>\n",
              "      <td>4</td>\n",
              "      <td>1</td>\n",
              "      <td>1</td>\n",
              "      <td>Futrelle, Mrs. Jacques Heath (Lily May Peel)</td>\n",
              "      <td>female</td>\n",
              "      <td>35.0</td>\n",
              "      <td>1</td>\n",
              "      <td>0</td>\n",
              "      <td>113803</td>\n",
              "      <td>53.1000</td>\n",
              "      <td>C123</td>\n",
              "      <td>S</td>\n",
              "    </tr>\n",
              "    <tr>\n",
              "      <th>4</th>\n",
              "      <td>5</td>\n",
              "      <td>0</td>\n",
              "      <td>3</td>\n",
              "      <td>Allen, Mr. William Henry</td>\n",
              "      <td>male</td>\n",
              "      <td>35.0</td>\n",
              "      <td>0</td>\n",
              "      <td>0</td>\n",
              "      <td>373450</td>\n",
              "      <td>8.0500</td>\n",
              "      <td>NaN</td>\n",
              "      <td>S</td>\n",
              "    </tr>\n",
              "  </tbody>\n",
              "</table>\n",
              "</div>"
            ],
            "text/plain": [
              "   PassengerId  Survived  Pclass  ...     Fare Cabin  Embarked\n",
              "0            1         0       3  ...   7.2500   NaN         S\n",
              "1            2         1       1  ...  71.2833   C85         C\n",
              "2            3         1       3  ...   7.9250   NaN         S\n",
              "3            4         1       1  ...  53.1000  C123         S\n",
              "4            5         0       3  ...   8.0500   NaN         S\n",
              "\n",
              "[5 rows x 12 columns]"
            ]
          },
          "metadata": {
            "tags": []
          },
          "execution_count": 120
        }
      ]
    },
    {
      "cell_type": "code",
      "metadata": {
        "id": "7xshoFwp0FgK"
      },
      "source": [
        "import seaborn as sns\r\n",
        "import matplotlib.pyplot as plt\r\n"
      ],
      "execution_count": 121,
      "outputs": []
    },
    {
      "cell_type": "markdown",
      "metadata": {
        "id": "mttzyQu4dTjP"
      },
      "source": [
        "#Feature Engineering"
      ]
    },
    {
      "cell_type": "code",
      "metadata": {
        "id": "qPrYP0xev3rC",
        "colab": {
          "base_uri": "https://localhost:8080/",
          "height": 449
        },
        "outputId": "341f6b23-eb74-4dac-e722-aedb59d0ab52"
      },
      "source": [
        "survived='survived'\r\n",
        "not_survived='not survived'\r\n",
        "\r\n",
        "fig,axes=plt.subplots(nrows=1, ncols=2, figsize=(10,4))\r\n",
        "women= train[train['Sex']==\"female\"]\r\n",
        "men=train[train['Sex']==\"male\"]\r\n",
        "\r\n",
        "ax=sns.distplot(women[women['Survived']==1].Age.dropna(), bins=18, label= survived, ax=axes[0], kde=False)\r\n",
        "ax=sns.distplot(women[women['Survived']==0].Age.dropna(), bins=40, label= not_survived, ax=axes[0], kde=False)\r\n",
        "ax.legend()\r\n",
        "ax.set_title('Female')\r\n",
        "ax=sns.distplot(men[men['Survived']==1].Age.dropna(), bins=18, label= survived, ax=axes[1], kde=False)\r\n",
        "ax=sns.distplot(men[men['Survived']==1].Age.dropna(), bins=40, label= not_survived, ax=axes[1], kde=False)\r\n",
        "ax.legend()\r\n",
        "_=ax.set_title('Male')"
      ],
      "execution_count": 122,
      "outputs": [
        {
          "output_type": "stream",
          "text": [
            "/usr/local/lib/python3.7/dist-packages/seaborn/distributions.py:2557: FutureWarning: `distplot` is a deprecated function and will be removed in a future version. Please adapt your code to use either `displot` (a figure-level function with similar flexibility) or `histplot` (an axes-level function for histograms).\n",
            "  warnings.warn(msg, FutureWarning)\n",
            "/usr/local/lib/python3.7/dist-packages/seaborn/distributions.py:2557: FutureWarning: `distplot` is a deprecated function and will be removed in a future version. Please adapt your code to use either `displot` (a figure-level function with similar flexibility) or `histplot` (an axes-level function for histograms).\n",
            "  warnings.warn(msg, FutureWarning)\n",
            "/usr/local/lib/python3.7/dist-packages/seaborn/distributions.py:2557: FutureWarning: `distplot` is a deprecated function and will be removed in a future version. Please adapt your code to use either `displot` (a figure-level function with similar flexibility) or `histplot` (an axes-level function for histograms).\n",
            "  warnings.warn(msg, FutureWarning)\n",
            "/usr/local/lib/python3.7/dist-packages/seaborn/distributions.py:2557: FutureWarning: `distplot` is a deprecated function and will be removed in a future version. Please adapt your code to use either `displot` (a figure-level function with similar flexibility) or `histplot` (an axes-level function for histograms).\n",
            "  warnings.warn(msg, FutureWarning)\n"
          ],
          "name": "stderr"
        },
        {
          "output_type": "display_data",
          "data": {
            "image/png": "[encoded data removed]",
            "text/plain": [
              "<Figure size 720x288 with 2 Axes>"
            ]
          },
          "metadata": {
            "tags": [],
            "needs_background": "light"
          }
        }
      ]
    },
    {
      "cell_type": "markdown",
      "metadata": {
        "id": "rGLx5Z_NELDN"
      },
      "source": [
        "Plotting Embarked vs Survived vs Pclass vs Sex"
      ]
    },
    {
      "cell_type": "code",
      "metadata": {
        "colab": {
          "base_uri": "https://localhost:8080/",
          "height": 1000
        },
        "id": "-x4w0IXj4LQu",
        "outputId": "a9c45756-3d2d-4769-c96b-501bd77204e7"
      },
      "source": [
        "FacetGrid= sns.FacetGrid(train, row='Embarked', size=4.5, aspect=1.6)\r\n",
        "FacetGrid.map(sns.pointplot, 'Pclass','Survived','Sex',palette=None, oder=None,hue_order=None)\r\n",
        "FacetGrid.add_legend()"
      ],
      "execution_count": 123,
      "outputs": [
        {
          "output_type": "stream",
          "text": [
            "/usr/local/lib/python3.7/dist-packages/seaborn/axisgrid.py:316: UserWarning: The `size` parameter has been renamed to `height`; please update your code.\n",
            "  warnings.warn(msg, UserWarning)\n",
            "/usr/local/lib/python3.7/dist-packages/seaborn/axisgrid.py:643: UserWarning: Using the pointplot function without specifying `order` is likely to produce an incorrect plot.\n",
            "  warnings.warn(warning)\n"
          ],
          "name": "stderr"
        },
        {
          "output_type": "execute_result",
          "data": {
            "text/plain": [
              "<seaborn.axisgrid.FacetGrid at 0x7f585461be90>"
            ]
          },
          "metadata": {
            "tags": []
          },
          "execution_count": 123
        },
        {
          "output_type": "display_data",
          "data": {
            "image/png": "[encoded data removed]",
            "text/plain": [
              "<Figure size 588.9x972 with 3 Axes>"
            ]
          },
          "metadata": {
            "tags": [],
            "needs_background": "light"
          }
        }
      ]
    },
    {
      "cell_type": "markdown",
      "metadata": {
        "id": "J3qD64cfCuRN"
      },
      "source": [
        "Plotting Pclass vs Survived"
      ]
    },
    {
      "cell_type": "code",
      "metadata": {
        "colab": {
          "base_uri": "https://localhost:8080/",
          "height": 296
        },
        "id": "YXOpQoaB45KF",
        "outputId": "ab39656c-c771-4bf4-b212-e1c4a18049f4"
      },
      "source": [
        "sns.barplot(x='Pclass',y='Survived', data=train)\r\n"
      ],
      "execution_count": 124,
      "outputs": [
        {
          "output_type": "execute_result",
          "data": {
            "text/plain": [
              "<matplotlib.axes._subplots.AxesSubplot at 0x7f5867944650>"
            ]
          },
          "metadata": {
            "tags": []
          },
          "execution_count": 124
        },
        {
          "output_type": "display_data",
          "data": {
            "image/png": "[encoded data removed]",
            "text/plain": [
              "<Figure size 432x288 with 1 Axes>"
            ]
          },
          "metadata": {
            "tags": [],
            "needs_background": "light"
          }
        }
      ]
    },
    {
      "cell_type": "markdown",
      "metadata": {
        "id": "QVIS89ztCUsQ"
      },
      "source": [
        "Plotting Survived vs Pclass vs Age"
      ]
    },
    {
      "cell_type": "code",
      "metadata": {
        "colab": {
          "base_uri": "https://localhost:8080/",
          "height": 535
        },
        "id": "X4Cdsgpx5CMH",
        "outputId": "3e531b10-ad43-409d-8000-b3ebf1bfa36f"
      },
      "source": [
        "Grid= sns.FacetGrid(train, col='Survived',row='Pclass', size=2.2, aspect=1.6)\r\n",
        "Grid.map(plt.hist, 'Age',alpha=.5,bins=20)\r\n",
        "Grid.add_legend()"
      ],
      "execution_count": 125,
      "outputs": [
        {
          "output_type": "stream",
          "text": [
            "/usr/local/lib/python3.7/dist-packages/seaborn/axisgrid.py:316: UserWarning: The `size` parameter has been renamed to `height`; please update your code.\n",
            "  warnings.warn(msg, UserWarning)\n"
          ],
          "name": "stderr"
        },
        {
          "output_type": "execute_result",
          "data": {
            "text/plain": [
              "<seaborn.axisgrid.FacetGrid at 0x7f586792dbd0>"
            ]
          },
          "metadata": {
            "tags": []
          },
          "execution_count": 125
        },
        {
          "output_type": "display_data",
          "data": {
            "image/png": "[encoded data removed]",
            "text/plain": [
              "<Figure size 514.88x475.2 with 6 Axes>"
            ]
          },
          "metadata": {
            "tags": [],
            "needs_background": "light"
          }
        }
      ]
    },
    {
      "cell_type": "markdown",
      "metadata": {
        "id": "eiqFTsr4CKkx"
      },
      "source": [
        "Making a new feature 'Relatives' from sum of SibSp and Parch"
      ]
    },
    {
      "cell_type": "code",
      "metadata": {
        "id": "DJb1qteq5rpv"
      },
      "source": [
        "data=[train,test]\r\n",
        "for dataset in data:\r\n",
        "  dataset['relatives']=dataset['SibSp']+dataset['Parch']\r\n",
        "  dataset.loc[dataset['relatives']>0, 'not_alone']=0\r\n",
        "  dataset.loc[dataset['relatives']==0, 'not_alone']=1\r\n",
        "  dataset['not_alone']= dataset['not_alone'].astype(int)"
      ],
      "execution_count": 126,
      "outputs": []
    },
    {
      "cell_type": "code",
      "metadata": {
        "colab": {
          "base_uri": "https://localhost:8080/",
          "height": 230
        },
        "id": "awMzUo_95rxD",
        "outputId": "77106aab-c9f5-486d-a4e6-7b84104fa4c3"
      },
      "source": [
        "data[0].head()"
      ],
      "execution_count": 127,
      "outputs": [
        {
          "output_type": "execute_result",
          "data": {
            "text/html": [
              "<div>\n",
              "<style scoped>\n",
              "    .dataframe tbody tr th:only-of-type {\n",
              "        vertical-align: middle;\n",
              "    }\n",
              "\n",
              "    .dataframe tbody tr th {\n",
              "        vertical-align: top;\n",
              "    }\n",
              "\n",
              "    .dataframe thead th {\n",
              "        text-align: right;\n",
              "    }\n",
              "</style>\n",
              "<table border=\"1\" class=\"dataframe\">\n",
              "  <thead>\n",
              "    <tr style=\"text-align: right;\">\n",
              "      <th></th>\n",
              "      <th>PassengerId</th>\n",
              "      <th>Survived</th>\n",
              "      <th>Pclass</th>\n",
              "      <th>Name</th>\n",
              "      <th>Sex</th>\n",
              "      <th>Age</th>\n",
              "      <th>SibSp</th>\n",
              "      <th>Parch</th>\n",
              "      <th>Ticket</th>\n",
              "      <th>Fare</th>\n",
              "      <th>Cabin</th>\n",
              "      <th>Embarked</th>\n",
              "      <th>relatives</th>\n",
              "      <th>not_alone</th>\n",
              "    </tr>\n",
              "  </thead>\n",
              "  <tbody>\n",
              "    <tr>\n",
              "      <th>0</th>\n",
              "      <td>1</td>\n",
              "      <td>0</td>\n",
              "      <td>3</td>\n",
              "      <td>Braund, Mr. Owen Harris</td>\n",
              "      <td>male</td>\n",
              "      <td>22.0</td>\n",
              "      <td>1</td>\n",
              "      <td>0</td>\n",
              "      <td>A/5 21171</td>\n",
              "      <td>7.2500</td>\n",
              "      <td>NaN</td>\n",
              "      <td>S</td>\n",
              "      <td>1</td>\n",
              "      <td>0</td>\n",
              "    </tr>\n",
              "    <tr>\n",
              "      <th>1</th>\n",
              "      <td>2</td>\n",
              "      <td>1</td>\n",
              "      <td>1</td>\n",
              "      <td>Cumings, Mrs. John Bradley (Florence Briggs Th...</td>\n",
              "      <td>female</td>\n",
              "      <td>38.0</td>\n",
              "      <td>1</td>\n",
              "      <td>0</td>\n",
              "      <td>PC 17599</td>\n",
              "      <td>71.2833</td>\n",
              "      <td>C85</td>\n",
              "      <td>C</td>\n",
              "      <td>1</td>\n",
              "      <td>0</td>\n",
              "    </tr>\n",
              "    <tr>\n",
              "      <th>2</th>\n",
              "      <td>3</td>\n",
              "      <td>1</td>\n",
              "      <td>3</td>\n",
              "      <td>Heikkinen, Miss. Laina</td>\n",
              "      <td>female</td>\n",
              "      <td>26.0</td>\n",
              "      <td>0</td>\n",
              "      <td>0</td>\n",
              "      <td>STON/O2. 3101282</td>\n",
              "      <td>7.9250</td>\n",
              "      <td>NaN</td>\n",
              "      <td>S</td>\n",
              "      <td>0</td>\n",
              "      <td>1</td>\n",
              "    </tr>\n",
              "    <tr>\n",
              "      <th>3</th>\n",
              "      <td>4</td>\n",
              "      <td>1</td>\n",
              "      <td>1</td>\n",
              "      <td>Futrelle, Mrs. Jacques Heath (Lily May Peel)</td>\n",
              "      <td>female</td>\n",
              "      <td>35.0</td>\n",
              "      <td>1</td>\n",
              "      <td>0</td>\n",
              "      <td>113803</td>\n",
              "      <td>53.1000</td>\n",
              "      <td>C123</td>\n",
              "      <td>S</td>\n",
              "      <td>1</td>\n",
              "      <td>0</td>\n",
              "    </tr>\n",
              "    <tr>\n",
              "      <th>4</th>\n",
              "      <td>5</td>\n",
              "      <td>0</td>\n",
              "      <td>3</td>\n",
              "      <td>Allen, Mr. William Henry</td>\n",
              "      <td>male</td>\n",
              "      <td>35.0</td>\n",
              "      <td>0</td>\n",
              "      <td>0</td>\n",
              "      <td>373450</td>\n",
              "      <td>8.0500</td>\n",
              "      <td>NaN</td>\n",
              "      <td>S</td>\n",
              "      <td>0</td>\n",
              "      <td>1</td>\n",
              "    </tr>\n",
              "  </tbody>\n",
              "</table>\n",
              "</div>"
            ],
            "text/plain": [
              "   PassengerId  Survived  Pclass  ... Embarked relatives  not_alone\n",
              "0            1         0       3  ...        S         1          0\n",
              "1            2         1       1  ...        C         1          0\n",
              "2            3         1       3  ...        S         0          1\n",
              "3            4         1       1  ...        S         1          0\n",
              "4            5         0       3  ...        S         0          1\n",
              "\n",
              "[5 rows x 14 columns]"
            ]
          },
          "metadata": {
            "tags": []
          },
          "execution_count": 127
        }
      ]
    },
    {
      "cell_type": "code",
      "metadata": {
        "colab": {
          "base_uri": "https://localhost:8080/"
        },
        "id": "Swo_Y7fN5r4H",
        "outputId": "8def10f2-0bd0-43ce-db59-06337484aee3"
      },
      "source": [
        "train['not_alone'].value_counts()"
      ],
      "execution_count": 128,
      "outputs": [
        {
          "output_type": "execute_result",
          "data": {
            "text/plain": [
              "1    537\n",
              "0    354\n",
              "Name: not_alone, dtype: int64"
            ]
          },
          "metadata": {
            "tags": []
          },
          "execution_count": 128
        }
      ]
    },
    {
      "cell_type": "markdown",
      "metadata": {
        "id": "6sRbLTi7B5PZ"
      },
      "source": [
        "Plot of Relatives vs Survived\r\n",
        "(to decipher the relationship between the two features)"
      ]
    },
    {
      "cell_type": "code",
      "metadata": {
        "colab": {
          "base_uri": "https://localhost:8080/",
          "height": 470
        },
        "id": "Lj352OQ76UX2",
        "outputId": "ef83109f-9906-4c9d-e9fc-68901c189ca9"
      },
      "source": [
        "axes=sns.factorplot('relatives','Survived',data=train, aspect=2.5)"
      ],
      "execution_count": 129,
      "outputs": [
        {
          "output_type": "stream",
          "text": [
            "/usr/local/lib/python3.7/dist-packages/seaborn/categorical.py:3714: UserWarning: The `factorplot` function has been renamed to `catplot`. The original name will be removed in a future release. Please update your code. Note that the default `kind` in `factorplot` (`'point'`) has changed `'strip'` in `catplot`.\n",
            "  warnings.warn(msg)\n",
            "/usr/local/lib/python3.7/dist-packages/seaborn/_decorators.py:43: FutureWarning: Pass the following variables as keyword args: x, y. From version 0.12, the only valid positional argument will be `data`, and passing other arguments without an explicit keyword will result in an error or misinterpretation.\n",
            "  FutureWarning\n"
          ],
          "name": "stderr"
        },
        {
          "output_type": "display_data",
          "data": {
            "image/png": "[encoded data removed]",
            "text/plain": [
              "<Figure size 900x360 with 1 Axes>"
            ]
          },
          "metadata": {
            "tags": [],
            "needs_background": "light"
          }
        }
      ]
    },
    {
      "cell_type": "markdown",
      "metadata": {
        "id": "Z5k-YPTSBvmL"
      },
      "source": [
        "Extracting any important/ relevant information from Cabin feature before dropping it"
      ]
    },
    {
      "cell_type": "code",
      "metadata": {
        "id": "ztdcNsGr6Uah"
      },
      "source": [
        "import re\r\n",
        "deck={'A':1,'B':2,'C':3,'D':4,'E':5,'F':6,'G':7,'U':8}\r\n",
        "data=[train,test]\r\n",
        "\r\n",
        "for dataset in data:\r\n",
        "  dataset['Cabin']=dataset['Cabin'].fillna(\"U0\")\r\n",
        "  dataset['Deck']=dataset['Cabin'].map(lambda x: re.compile(\"([a-zA-Z]+)\").search(x).group())\r\n",
        "  dataset['Deck']=dataset['Deck'].map(deck)\r\n",
        "  dataset['Deck']=dataset['Deck'].fillna(0)\r\n",
        "  dataset['Deck']=dataset['Deck'].astype(int)\r\n",
        "\r\n",
        "train=train.drop(['Cabin'],axis=1)\r\n",
        "test=test.drop(['Cabin'],axis=1)\r\n",
        "                 "
      ],
      "execution_count": 130,
      "outputs": []
    },
    {
      "cell_type": "markdown",
      "metadata": {
        "id": "7RqyH6AnBrN8"
      },
      "source": [
        "Fixing Age Column"
      ]
    },
    {
      "cell_type": "code",
      "metadata": {
        "colab": {
          "base_uri": "https://localhost:8080/"
        },
        "id": "ik2EwnZC7x2Y",
        "outputId": "3611549c-00d5-4c5c-adef-87e0799e173f"
      },
      "source": [
        "data=[train,test]\r\n",
        "\r\n",
        "for dataset in data:\r\n",
        "  mean=train[\"Age\"].mean()\r\n",
        "  std=test[\"Age\"].std()\r\n",
        "  is_null=dataset[\"Age\"].isnull().sum()\r\n",
        "  rand_age=np.random.randint(mean-std, mean+std, size=is_null)\r\n",
        "  age_slice=dataset[\"Age\"].copy()\r\n",
        "  age_slice[np.isnan(age_slice)]=rand_age\r\n",
        "  dataset[\"Age\"]=age_slice\r\n",
        "  dataset[\"Age\"]=train[\"Age\"].astype(int)\r\n",
        "\r\n",
        "train[\"Age\"].isnull().sum()"
      ],
      "execution_count": 131,
      "outputs": [
        {
          "output_type": "execute_result",
          "data": {
            "text/plain": [
              "0"
            ]
          },
          "metadata": {
            "tags": []
          },
          "execution_count": 131
        }
      ]
    },
    {
      "cell_type": "markdown",
      "metadata": {
        "id": "vA-la4rpBmLz"
      },
      "source": [
        "Fixing Embarked Column"
      ]
    },
    {
      "cell_type": "code",
      "metadata": {
        "colab": {
          "base_uri": "https://localhost:8080/"
        },
        "id": "htVdtD8s7x-1",
        "outputId": "8bb282aa-ca1f-48c8-aeb2-4c62e03afd23"
      },
      "source": [
        "train['Embarked'].describe()"
      ],
      "execution_count": 132,
      "outputs": [
        {
          "output_type": "execute_result",
          "data": {
            "text/plain": [
              "count     889\n",
              "unique      3\n",
              "top         S\n",
              "freq      644\n",
              "Name: Embarked, dtype: object"
            ]
          },
          "metadata": {
            "tags": []
          },
          "execution_count": 132
        }
      ]
    },
    {
      "cell_type": "code",
      "metadata": {
        "id": "plXWGnq07yGY"
      },
      "source": [
        "common_value='S'\r\n",
        "data=[train,test]\r\n",
        "\r\n",
        "for dataset in data:\r\n",
        "  dataset['Embarked']=dataset['Embarked'].fillna(common_value)"
      ],
      "execution_count": 133,
      "outputs": []
    },
    {
      "cell_type": "markdown",
      "metadata": {
        "id": "my4qFS_pBZGW"
      },
      "source": [
        "Fare to int"
      ]
    },
    {
      "cell_type": "code",
      "metadata": {
        "id": "hjLsGDrO8ir8"
      },
      "source": [
        "#Converting Fare to int\r\n",
        "data=[train,test]\r\n",
        "\r\n",
        "for dataset in data:\r\n",
        "  dataset['Fare']=dataset['Fare'].fillna(0)\r\n",
        "  dataset['Fare']=dataset['Fare'].astype(int)"
      ],
      "execution_count": 134,
      "outputs": []
    },
    {
      "cell_type": "markdown",
      "metadata": {
        "id": "qf4E6IKhEWQr"
      },
      "source": [
        "Extracting Titles from Name"
      ]
    },
    {
      "cell_type": "code",
      "metadata": {
        "id": "gRuBwIAZ9b36"
      },
      "source": [
        "data=[train,test]\r\n",
        "titles={\"Mr\":1,\"Miss\":2,\"Mrs\":3,\"Master\":4,\"Rare\":5}\r\n",
        "\r\n",
        "for dataset in data:\r\n",
        "  dataset['Title']=dataset.Name.str.extract('([A-Za-z]+)\\.',expand=False)\r\n",
        "  dataset['Title']=dataset['Title'].replace(['Lady','Countess','Capt','Col','Don','Dr','Major','Rev','Sir','Jonkheer','Dona'],'Rare')\r\n",
        "  dataset['Title']=dataset['Title'].replace('Mlle','Miss')\r\n",
        "  dataset['Title']=dataset['Title'].replace('Ms','Miss')\r\n",
        "  dataset['Title']=dataset['Title'].replace('Mme','Mrs')\r\n",
        "  dataset['Title']=dataset['Title'].map(titles)\r\n",
        "  dataset['Title']=dataset['Title'].fillna(0)\r\n",
        "\r\n",
        "train=train.drop(['Name'],axis=1)\r\n",
        "test=test.drop(['Name'],axis=1)"
      ],
      "execution_count": 135,
      "outputs": []
    },
    {
      "cell_type": "markdown",
      "metadata": {
        "id": "uSPQwHFbFo2d"
      },
      "source": [
        "Sex to Numeric values"
      ]
    },
    {
      "cell_type": "code",
      "metadata": {
        "id": "ixDqRrJOy8ZV"
      },
      "source": [
        "genders={'male':0,'female':1}\r\n",
        "data=[train,test]\r\n",
        "\r\n",
        "for dataset in data:\r\n",
        "  dataset['Sex']=dataset['Sex'].map(genders)"
      ],
      "execution_count": 136,
      "outputs": []
    },
    {
      "cell_type": "markdown",
      "metadata": {
        "id": "Gzzd5M_KF_82"
      },
      "source": [
        "Ticket"
      ]
    },
    {
      "cell_type": "code",
      "metadata": {
        "colab": {
          "base_uri": "https://localhost:8080/"
        },
        "id": "p1ozRhap9cAD",
        "outputId": "74633ad6-ac41-43ba-8cc7-dd71b5d5c6e2"
      },
      "source": [
        "train['Ticket'].describe()"
      ],
      "execution_count": 137,
      "outputs": [
        {
          "output_type": "execute_result",
          "data": {
            "text/plain": [
              "count      891\n",
              "unique     681\n",
              "top       1601\n",
              "freq         7\n",
              "Name: Ticket, dtype: object"
            ]
          },
          "metadata": {
            "tags": []
          },
          "execution_count": 137
        }
      ]
    },
    {
      "cell_type": "code",
      "metadata": {
        "id": "Ij4a6D6dF-k7"
      },
      "source": [
        "train=train.drop(['Ticket'],axis=1)\r\n",
        "test=test.drop(['Ticket'], axis=1)"
      ],
      "execution_count": 138,
      "outputs": []
    },
    {
      "cell_type": "markdown",
      "metadata": {
        "id": "K_s_2_IbGMwE"
      },
      "source": [
        "Embarked"
      ]
    },
    {
      "cell_type": "code",
      "metadata": {
        "id": "-IW5z1K_F-n6"
      },
      "source": [
        "ports={\"S\":0,\"C\":1,\"Q\":2}\r\n",
        "data=[train,test]\r\n",
        "\r\n",
        "for dataset in data:\r\n",
        "  dataset['Embarked']=dataset['Embarked'].map(ports)"
      ],
      "execution_count": 139,
      "outputs": []
    },
    {
      "cell_type": "markdown",
      "metadata": {
        "id": "jXI3RiYvGbSp"
      },
      "source": [
        "Creating Categories from Age"
      ]
    },
    {
      "cell_type": "code",
      "metadata": {
        "id": "WFv17nm9GNzm"
      },
      "source": [
        "data=[train,test]\r\n",
        "\r\n",
        "for dataset in data:\r\n",
        "  dataset['Age']=dataset['Age'].astype(int)\r\n",
        "  dataset.loc[dataset['Age']<=11, 'Age']=0\r\n",
        "  dataset.loc[(dataset['Age']>11) & (dataset['Age']<=18), 'Age']=1\r\n",
        "  dataset.loc[(dataset['Age']>18) & (dataset['Age']<=22), 'Age']=2\r\n",
        "  dataset.loc[(dataset['Age']>22) & (dataset['Age']<=27), 'Age']=3\r\n",
        "  dataset.loc[(dataset['Age']>27) & (dataset['Age']<=33), 'Age']=4\r\n",
        "  dataset.loc[(dataset['Age']>33) & (dataset['Age']<=40), 'Age']=5\r\n",
        "  dataset.loc[(dataset['Age']>40) & (dataset['Age']<=66), 'Age']=6\r\n",
        "  dataset.loc[dataset['Age']>66, 'Age']=7"
      ],
      "execution_count": 140,
      "outputs": []
    },
    {
      "cell_type": "markdown",
      "metadata": {
        "id": "gSiROAoTHVBI"
      },
      "source": [
        "Creating Categories from Fare"
      ]
    },
    {
      "cell_type": "code",
      "metadata": {
        "id": "1TEjocTpGN2E"
      },
      "source": [
        "data=[train,test]\r\n",
        "\r\n",
        "for dataset in data:\r\n",
        "  dataset.loc[dataset['Fare']<=7.91, 'Fare']=0\r\n",
        "  dataset.loc[(dataset['Fare']>7.91) & (dataset['Fare']<=14.454), 'Fare']=1\r\n",
        "  dataset.loc[(dataset['Fare']>14.454) & (dataset['Fare']<=31), 'Fare']=2\r\n",
        "  dataset.loc[(dataset['Fare']>31) & (dataset['Fare']<=99), 'Fare']=3\r\n",
        "  dataset.loc[(dataset['Fare']>99) & (dataset['Fare']<=250), 'Fare']=4\r\n",
        "  dataset.loc[dataset['Fare']>250, 'Fare']=5\r\n",
        "  dataset['Fare']=dataset['Fare'].astype(int)"
      ],
      "execution_count": 141,
      "outputs": []
    },
    {
      "cell_type": "markdown",
      "metadata": {
        "id": "-CWxOTyQcs6z"
      },
      "source": [
        "Creating new features:\r\n",
        "Age Class and Fare Per Person"
      ]
    },
    {
      "cell_type": "code",
      "metadata": {
        "id": "6fuAv_ksHYtr"
      },
      "source": [
        "data=[train,test]\r\n",
        "\r\n",
        "for dataset in data:\r\n",
        "  dataset['Age_Class']=dataset['Age']*dataset['Pclass']"
      ],
      "execution_count": 142,
      "outputs": []
    },
    {
      "cell_type": "code",
      "metadata": {
        "id": "ushtyll3HYwZ"
      },
      "source": [
        "for dataset in data:\r\n",
        "  dataset['Fare_Per_Person']=dataset['Fare']/(dataset['relatives']+1)\r\n",
        "  dataset['Fare_Per_Person']=dataset['Fare_Per_Person'].astype(int)"
      ],
      "execution_count": 143,
      "outputs": []
    },
    {
      "cell_type": "code",
      "metadata": {
        "colab": {
          "base_uri": "https://localhost:8080/"
        },
        "id": "REwax_UReixS",
        "outputId": "0476524e-ae5c-467a-805d-829f2ae49ed3"
      },
      "source": [
        "test.columns"
      ],
      "execution_count": 144,
      "outputs": [
        {
          "output_type": "execute_result",
          "data": {
            "text/plain": [
              "Index(['PassengerId', 'Pclass', 'Sex', 'Age', 'SibSp', 'Parch', 'Fare',\n",
              "       'Embarked', 'relatives', 'not_alone', 'Deck', 'Title', 'Age_Class',\n",
              "       'Fare_Per_Person'],\n",
              "      dtype='object')"
            ]
          },
          "metadata": {
            "tags": []
          },
          "execution_count": 144
        }
      ]
    },
    {
      "cell_type": "markdown",
      "metadata": {
        "id": "4zx80OsCed93"
      },
      "source": [
        "#Machine Learning Models"
      ]
    },
    {
      "cell_type": "markdown",
      "metadata": {
        "id": "-Zvnvipjej1c"
      },
      "source": [
        "##Logistic Regression"
      ]
    },
    {
      "cell_type": "code",
      "metadata": {
        "id": "6Rtr3A4efGse"
      },
      "source": [
        "from sklearn.model_selection import train_test_split\r\n",
        "from sklearn.linear_model import LogisticRegression\r\n",
        "from sklearn import metrics\r\n",
        "import matplotlib.pyplot as plt\r\n",
        "%matplotlib inline\r\n",
        "from sklearn.metrics import plot_confusion_matrix\r\n",
        "from sklearn import preprocessing\r\n",
        "from sklearn.preprocessing import StandardScaler\r\n",
        "from sklearn.datasets import make_classification\r\n",
        "from sklearn.pipeline import make_pipeline\r\n",
        "from sklearn.model_selection import KFold\r\n",
        "from sklearn.model_selection import cross_val_score"
      ],
      "execution_count": 271,
      "outputs": []
    },
    {
      "cell_type": "code",
      "metadata": {
        "id": "MtrXl3d0dACN",
        "colab": {
          "base_uri": "https://localhost:8080/"
        },
        "outputId": "e16267c6-52b7-4040-cf49-3a80feed10f4"
      },
      "source": [
        "train.columns"
      ],
      "execution_count": 149,
      "outputs": [
        {
          "output_type": "execute_result",
          "data": {
            "text/plain": [
              "Index(['PassengerId', 'Survived', 'Pclass', 'Sex', 'Age', 'SibSp', 'Parch',\n",
              "       'Fare', 'Embarked', 'relatives', 'not_alone', 'Deck', 'Title',\n",
              "       'Age_Class', 'Fare_Per_Person'],\n",
              "      dtype='object')"
            ]
          },
          "metadata": {
            "tags": []
          },
          "execution_count": 149
        }
      ]
    },
    {
      "cell_type": "code",
      "metadata": {
        "colab": {
          "base_uri": "https://localhost:8080/"
        },
        "id": "kkamDfyhfYz3",
        "outputId": "acbc11f8-4634-4900-bf59-51265bbe1bb9"
      },
      "source": [
        "test.columns"
      ],
      "execution_count": 150,
      "outputs": [
        {
          "output_type": "execute_result",
          "data": {
            "text/plain": [
              "Index(['PassengerId', 'Pclass', 'Sex', 'Age', 'SibSp', 'Parch', 'Fare',\n",
              "       'Embarked', 'relatives', 'not_alone', 'Deck', 'Title', 'Age_Class',\n",
              "       'Fare_Per_Person'],\n",
              "      dtype='object')"
            ]
          },
          "metadata": {
            "tags": []
          },
          "execution_count": 150
        }
      ]
    },
    {
      "cell_type": "code",
      "metadata": {
        "colab": {
          "base_uri": "https://localhost:8080/"
        },
        "id": "6ME2SqBOfcCa",
        "outputId": "dc9dfbcc-907b-4447-b33b-854d2a93968f"
      },
      "source": [
        "train.shape"
      ],
      "execution_count": 151,
      "outputs": [
        {
          "output_type": "execute_result",
          "data": {
            "text/plain": [
              "(891, 15)"
            ]
          },
          "metadata": {
            "tags": []
          },
          "execution_count": 151
        }
      ]
    },
    {
      "cell_type": "code",
      "metadata": {
        "colab": {
          "base_uri": "https://localhost:8080/"
        },
        "id": "uy5TYqa6ffe9",
        "outputId": "58ff1bea-7526-4607-f7db-679c47971f56"
      },
      "source": [
        "test.shape"
      ],
      "execution_count": 152,
      "outputs": [
        {
          "output_type": "execute_result",
          "data": {
            "text/plain": [
              "(418, 14)"
            ]
          },
          "metadata": {
            "tags": []
          },
          "execution_count": 152
        }
      ]
    },
    {
      "cell_type": "code",
      "metadata": {
        "id": "fI2TLIp842pI"
      },
      "source": [
        "independent_var=['PassengerId', 'Pclass', 'Sex', 'Age', 'SibSp', 'Parch',\r\n",
        "       'Fare', 'Embarked', 'relatives', 'not_alone', 'Deck', 'Title',\r\n",
        "       'Age_Class', 'Fare_Per_Person']\r\n",
        "\r\n",
        "train_data= train[independent_var]\r\n",
        "train_label=train.Survived\r\n",
        "test_data=test[independent_var]"
      ],
      "execution_count": 272,
      "outputs": []
    },
    {
      "cell_type": "code",
      "metadata": {
        "id": "d4aQJ7tu-PTw"
      },
      "source": [
        "test_label=test_label_data.Survived"
      ],
      "execution_count": 281,
      "outputs": []
    },
    {
      "cell_type": "code",
      "metadata": {
        "id": "Za2wFzzGB97p"
      },
      "source": [
        "sc= StandardScaler()\r\n",
        "train_data= sc.fit_transform(train_data)\r\n",
        "test_data=sc.fit_transform(test_data)"
      ],
      "execution_count": 273,
      "outputs": []
    },
    {
      "cell_type": "code",
      "metadata": {
        "id": "a828sQF7B-Ax"
      },
      "source": [
        "from sklearn.model_selection import GridSearchCV\r\n",
        "from sklearn.metrics import classification_report"
      ],
      "execution_count": 274,
      "outputs": []
    },
    {
      "cell_type": "code",
      "metadata": {
        "id": "bIVOuxdZ_4_m"
      },
      "source": [
        "lr= LogisticRegression()"
      ],
      "execution_count": 276,
      "outputs": []
    },
    {
      "cell_type": "code",
      "metadata": {
        "colab": {
          "base_uri": "https://localhost:8080/"
        },
        "id": "Enkgpf6FChIi",
        "outputId": "909154fc-f16d-45c4-c320-98068155c09d"
      },
      "source": [
        "lr_parameters={'C':[0.01,0.1,1,10,100]}\r\n",
        "cv_lr=GridSearchCV(lr, lr_parameters, cv=5)\r\n",
        "cv_lr.fit(train_data, train_label)\r\n",
        "cv_lr.best_estimator_"
      ],
      "execution_count": 277,
      "outputs": [
        {
          "output_type": "execute_result",
          "data": {
            "text/plain": [
              "LogisticRegression(C=0.1, class_weight=None, dual=False, fit_intercept=True,\n",
              "                   intercept_scaling=1, l1_ratio=None, max_iter=100,\n",
              "                   multi_class='auto', n_jobs=None, penalty='l2',\n",
              "                   random_state=None, solver='lbfgs', tol=0.0001, verbose=0,\n",
              "                   warm_start=False)"
            ]
          },
          "metadata": {
            "tags": []
          },
          "execution_count": 277
        }
      ]
    },
    {
      "cell_type": "code",
      "metadata": {
        "id": "-TCv3xtbChLx"
      },
      "source": [
        "def print_results(x):\r\n",
        "  print('Best Parameters: {}\\n'.format(x.best_params_))\r\n",
        "  means=x.cv_results_['mean_test_score']\r\n",
        "  stds=x.cv_results_['std_test_score']\r\n",
        "  for mean in means:\r\n",
        "    print('means: ',round(mean,3))\r\n",
        "  for std in stds:\r\n",
        "    print('stds: ',round(std*2,3))\r\n",
        "  for params in x.cv_results_['params']:\r\n",
        "    print('params: ',params)"
      ],
      "execution_count": 278,
      "outputs": []
    },
    {
      "cell_type": "code",
      "metadata": {
        "colab": {
          "base_uri": "https://localhost:8080/"
        },
        "id": "tZkoeT_LEuOD",
        "outputId": "133730ac-410d-4421-8d41-2d3ff84ac101"
      },
      "source": [
        "print_results(cv_lr)"
      ],
      "execution_count": 279,
      "outputs": [
        {
          "output_type": "stream",
          "text": [
            "Best Parameters: {'C': 0.1}\n",
            "\n",
            "means:  0.8\n",
            "means:  0.814\n",
            "means:  0.808\n",
            "means:  0.806\n",
            "means:  0.806\n",
            "stds:  0.039\n",
            "stds:  0.017\n",
            "stds:  0.022\n",
            "stds:  0.023\n",
            "stds:  0.023\n",
            "params:  {'C': 0.01}\n",
            "params:  {'C': 0.1}\n",
            "params:  {'C': 1}\n",
            "params:  {'C': 10}\n",
            "params:  {'C': 100}\n"
          ],
          "name": "stdout"
        }
      ]
    },
    {
      "cell_type": "code",
      "metadata": {
        "colab": {
          "base_uri": "https://localhost:8080/"
        },
        "id": "Nm5UdGoyK_pK",
        "outputId": "66ba5aff-0a05-4fee-97b8-d0ef6df9e3de"
      },
      "source": [
        "lr_best_params={'C':[1]}\r\n",
        "cv_lr=GridSearchCV(lr, lr_best_params, cv=5)\r\n",
        "cv_lr.fit(train_data, train_label)"
      ],
      "execution_count": 282,
      "outputs": [
        {
          "output_type": "execute_result",
          "data": {
            "text/plain": [
              "GridSearchCV(cv=5, error_score=nan,\n",
              "             estimator=LogisticRegression(C=1.0, class_weight=None, dual=False,\n",
              "                                          fit_intercept=True,\n",
              "                                          intercept_scaling=1, l1_ratio=None,\n",
              "                                          max_iter=100, multi_class='auto',\n",
              "                                          n_jobs=None, penalty='l2',\n",
              "                                          random_state=None, solver='lbfgs',\n",
              "                                          tol=0.0001, verbose=0,\n",
              "                                          warm_start=False),\n",
              "             iid='deprecated', n_jobs=None, param_grid={'C': [1]},\n",
              "             pre_dispatch='2*n_jobs', refit=True, return_train_score=False,\n",
              "             scoring=None, verbose=0)"
            ]
          },
          "metadata": {
            "tags": []
          },
          "execution_count": 282
        }
      ]
    },
    {
      "cell_type": "code",
      "metadata": {
        "id": "N7BnehALLjeJ"
      },
      "source": [
        "lr_predicted_label=cv_lr.predict(test_data)"
      ],
      "execution_count": 283,
      "outputs": []
    },
    {
      "cell_type": "code",
      "metadata": {
        "id": "4bdy0BAg5bbD",
        "colab": {
          "base_uri": "https://localhost:8080/"
        },
        "outputId": "a9adf5e5-bbc4-49fd-8a3c-b6fbe859af84"
      },
      "source": [
        "confusion_matrix= metrics.confusion_matrix(test_label, lr_predicted_label)\r\n",
        "confusion_matrix"
      ],
      "execution_count": 284,
      "outputs": [
        {
          "output_type": "execute_result",
          "data": {
            "text/plain": [
              "array([[254,  12],\n",
              "       [ 26, 126]])"
            ]
          },
          "metadata": {
            "tags": []
          },
          "execution_count": 284
        }
      ]
    },
    {
      "cell_type": "code",
      "metadata": {
        "id": "vdtAXJjX5beg",
        "colab": {
          "base_uri": "https://localhost:8080/",
          "height": 297
        },
        "outputId": "4d17f779-2506-4eae-be00-627bfc092162"
      },
      "source": [
        "plot_confusion_matrix(cv_lr,test_data,test_label)"
      ],
      "execution_count": 285,
      "outputs": [
        {
          "output_type": "execute_result",
          "data": {
            "text/plain": [
              "<sklearn.metrics._plot.confusion_matrix.ConfusionMatrixDisplay at 0x7f5851ee3090>"
            ]
          },
          "metadata": {
            "tags": []
          },
          "execution_count": 285
        },
        {
          "output_type": "display_data",
          "data": {
            "image/png": "[encoded data removed]",
            "text/plain": [
              "<Figure size 432x288 with 2 Axes>"
            ]
          },
          "metadata": {
            "tags": [],
            "needs_background": "light"
          }
        }
      ]
    },
    {
      "cell_type": "code",
      "metadata": {
        "id": "nZwbTV9y5bhi",
        "colab": {
          "base_uri": "https://localhost:8080/"
        },
        "outputId": "715e2923-f829-4068-c0e9-32fdf19567b8"
      },
      "source": [
        "acc_lr=metrics.accuracy_score(test_label,lr_predicted_label)\r\n",
        "prec_lr=metrics.precision_score(test_label,lr_predicted_label)\r\n",
        "recall_lr=metrics.recall_score(test_label,lr_predicted_label)\r\n",
        "print(\"Accuracy: \",acc_lr)\r\n",
        "print(\"Precision: \",prec_lr)\r\n",
        "print(\"Recall: \",recall_lr)"
      ],
      "execution_count": 286,
      "outputs": [
        {
          "output_type": "stream",
          "text": [
            "Accuracy:  0.9090909090909091\n",
            "Precision:  0.9130434782608695\n",
            "Recall:  0.8289473684210527\n"
          ],
          "name": "stdout"
        }
      ]
    },
    {
      "cell_type": "code",
      "metadata": {
        "id": "fvqtzRm2SJGP"
      },
      "source": [
        "from sklearn.datasets import make_classification\r\n",
        "from numpy import mean\r\n",
        "from numpy import std"
      ],
      "execution_count": 287,
      "outputs": []
    },
    {
      "cell_type": "code",
      "metadata": {
        "id": "48b26gOkSJJC"
      },
      "source": [
        "train_data, train_label = make_classification(n_samples=1000, n_features=20, n_informative=15, n_redundant=5, random_state=1)"
      ],
      "execution_count": 288,
      "outputs": []
    },
    {
      "cell_type": "code",
      "metadata": {
        "id": "ZPF5vqLQSJM6"
      },
      "source": [
        "cv_lr_kfold=KFold(n_splits=10, random_state=1, shuffle=True)"
      ],
      "execution_count": 289,
      "outputs": []
    },
    {
      "cell_type": "code",
      "metadata": {
        "id": "YA-E4KSKSmKn"
      },
      "source": [
        "scores_lr = cross_val_score(cv_lr, train_data, train_label, scoring='accuracy')"
      ],
      "execution_count": 291,
      "outputs": []
    },
    {
      "cell_type": "code",
      "metadata": {
        "colab": {
          "base_uri": "https://localhost:8080/"
        },
        "id": "VsoMX16v7m01",
        "outputId": "b9bcb636-65db-4343-dee4-75af91e40843"
      },
      "source": [
        "print('Scores: ',scores_lr)\r\n",
        "print('Mean: ',scores_lr.mean())\r\n",
        "print('Standard Deviation: ',scores_lr.std())"
      ],
      "execution_count": 293,
      "outputs": [
        {
          "output_type": "stream",
          "text": [
            "Scores:  [0.85  0.9   0.81  0.895 0.87 ]\n",
            "Mean:  0.865\n",
            "Standard Deviation:  0.032863353450309954\n"
          ],
          "name": "stdout"
        }
      ]
    },
    {
      "cell_type": "markdown",
      "metadata": {
        "id": "onh4stRXej7w"
      },
      "source": [
        "##Support Vector Machine"
      ]
    },
    {
      "cell_type": "code",
      "metadata": {
        "id": "SIPXOPzdevE_"
      },
      "source": [
        "from sklearn.svm import SVR\r\n",
        "from sklearn.svm import SVC"
      ],
      "execution_count": 295,
      "outputs": []
    },
    {
      "cell_type": "code",
      "metadata": {
        "id": "DMMjDD1OImzn"
      },
      "source": [
        "svm=SVC()"
      ],
      "execution_count": 296,
      "outputs": []
    },
    {
      "cell_type": "code",
      "metadata": {
        "id": "wgqLHVS7Im5M"
      },
      "source": [
        "svm_parameters={ 'C': [0.01,0.1,1,10,100], 'kernel':['rbf','linear']}\r\n"
      ],
      "execution_count": 297,
      "outputs": []
    },
    {
      "cell_type": "code",
      "metadata": {
        "id": "hVWzLCy1Im8U"
      },
      "source": [
        "cv_svm= GridSearchCV(svm,svm_parameters, cv=5)\r\n"
      ],
      "execution_count": 298,
      "outputs": []
    },
    {
      "cell_type": "code",
      "metadata": {
        "id": "jDSWepC01INm"
      },
      "source": [
        "test_data=test[independent_var]\r\n",
        "independent_var=['PassengerId', 'Pclass', 'Sex', 'Age', 'SibSp', 'Parch',\r\n",
        "       'Fare', 'Embarked', 'relatives', 'not_alone', 'Deck', 'Title',\r\n",
        "       'Age_Class', 'Fare_Per_Person']\r\n",
        "\r\n",
        "train_data= train[independent_var]\r\n",
        "train_label=train.Survived\r\n",
        "sc= StandardScaler()\r\n",
        "train_data= sc.fit_transform(train_data)\r\n",
        "test_data=sc.fit_transform(test_data)"
      ],
      "execution_count": 299,
      "outputs": []
    },
    {
      "cell_type": "code",
      "metadata": {
        "id": "ynXZ7aB_evHb",
        "colab": {
          "base_uri": "https://localhost:8080/"
        },
        "outputId": "3d9f078d-171f-481a-8b5e-2099c8ebb491"
      },
      "source": [
        "cv_svm.fit(train_data, train_label)"
      ],
      "execution_count": 300,
      "outputs": [
        {
          "output_type": "execute_result",
          "data": {
            "text/plain": [
              "GridSearchCV(cv=5, error_score=nan,\n",
              "             estimator=SVC(C=1.0, break_ties=False, cache_size=200,\n",
              "                           class_weight=None, coef0=0.0,\n",
              "                           decision_function_shape='ovr', degree=3,\n",
              "                           gamma='scale', kernel='rbf', max_iter=-1,\n",
              "                           probability=False, random_state=None, shrinking=True,\n",
              "                           tol=0.001, verbose=False),\n",
              "             iid='deprecated', n_jobs=None,\n",
              "             param_grid={'C': [0.01, 0.1, 1, 10, 100],\n",
              "                         'kernel': ['rbf', 'linear']},\n",
              "             pre_dispatch='2*n_jobs', refit=True, return_train_score=False,\n",
              "             scoring=None, verbose=0)"
            ]
          },
          "metadata": {
            "tags": []
          },
          "execution_count": 300
        }
      ]
    },
    {
      "cell_type": "code",
      "metadata": {
        "colab": {
          "base_uri": "https://localhost:8080/"
        },
        "id": "D7Zm5yzUKtfs",
        "outputId": "c020e6e1-8c84-4e57-b5ae-2a452d158de1"
      },
      "source": [
        "print_results(cv_svm)"
      ],
      "execution_count": 302,
      "outputs": [
        {
          "output_type": "stream",
          "text": [
            "Best Parameters: {'C': 1, 'kernel': 'rbf'}\n",
            "\n",
            "means:  0.616\n",
            "means:  0.791\n",
            "means:  0.826\n",
            "means:  0.804\n",
            "means:  0.832\n",
            "means:  0.802\n",
            "means:  0.814\n",
            "means:  0.804\n",
            "means:  0.778\n",
            "means:  0.804\n",
            "stds:  0.005\n",
            "stds:  0.036\n",
            "stds:  0.024\n",
            "stds:  0.049\n",
            "stds:  0.034\n",
            "stds:  0.04\n",
            "stds:  0.063\n",
            "stds:  0.045\n",
            "stds:  0.078\n",
            "stds:  0.045\n",
            "params:  {'C': 0.01, 'kernel': 'rbf'}\n",
            "params:  {'C': 0.01, 'kernel': 'linear'}\n",
            "params:  {'C': 0.1, 'kernel': 'rbf'}\n",
            "params:  {'C': 0.1, 'kernel': 'linear'}\n",
            "params:  {'C': 1, 'kernel': 'rbf'}\n",
            "params:  {'C': 1, 'kernel': 'linear'}\n",
            "params:  {'C': 10, 'kernel': 'rbf'}\n",
            "params:  {'C': 10, 'kernel': 'linear'}\n",
            "params:  {'C': 100, 'kernel': 'rbf'}\n",
            "params:  {'C': 100, 'kernel': 'linear'}\n"
          ],
          "name": "stdout"
        }
      ]
    },
    {
      "cell_type": "code",
      "metadata": {
        "colab": {
          "base_uri": "https://localhost:8080/"
        },
        "id": "8dQ_qbPAMPZi",
        "outputId": "950c128a-d6cc-4605-c4cb-be3e783c45ce"
      },
      "source": [
        "svm_Best_Parameters={'C':[1], 'kernel': ['rbf']}\r\n",
        "cv_svm=GridSearchCV(svm, svm_Best_Parameters, cv=5)\r\n",
        "cv_svm.fit(train_data, train_label)"
      ],
      "execution_count": 303,
      "outputs": [
        {
          "output_type": "execute_result",
          "data": {
            "text/plain": [
              "GridSearchCV(cv=5, error_score=nan,\n",
              "             estimator=SVC(C=1.0, break_ties=False, cache_size=200,\n",
              "                           class_weight=None, coef0=0.0,\n",
              "                           decision_function_shape='ovr', degree=3,\n",
              "                           gamma='scale', kernel='rbf', max_iter=-1,\n",
              "                           probability=False, random_state=None, shrinking=True,\n",
              "                           tol=0.001, verbose=False),\n",
              "             iid='deprecated', n_jobs=None,\n",
              "             param_grid={'C': [1], 'kernel': ['rbf']}, pre_dispatch='2*n_jobs',\n",
              "             refit=True, return_train_score=False, scoring=None, verbose=0)"
            ]
          },
          "metadata": {
            "tags": []
          },
          "execution_count": 303
        }
      ]
    },
    {
      "cell_type": "code",
      "metadata": {
        "id": "0Llopt4HMPZm"
      },
      "source": [
        "svm_predicted_label=cv_svm.predict(test_data)"
      ],
      "execution_count": 304,
      "outputs": []
    },
    {
      "cell_type": "code",
      "metadata": {
        "colab": {
          "base_uri": "https://localhost:8080/"
        },
        "id": "NULTdX3sMPZn",
        "outputId": "098d931d-dd09-46a3-8b77-7a740d78dc9e"
      },
      "source": [
        "confusion_matrix_svm= metrics.confusion_matrix(test_label, svm_predicted_label)\r\n",
        "confusion_matrix"
      ],
      "execution_count": 305,
      "outputs": [
        {
          "output_type": "execute_result",
          "data": {
            "text/plain": [
              "array([[254,  12],\n",
              "       [ 26, 126]])"
            ]
          },
          "metadata": {
            "tags": []
          },
          "execution_count": 305
        }
      ]
    },
    {
      "cell_type": "code",
      "metadata": {
        "colab": {
          "base_uri": "https://localhost:8080/",
          "height": 296
        },
        "id": "IY7OIhw-MPZn",
        "outputId": "96d3579f-885e-4732-f311-0a92760a96f7"
      },
      "source": [
        "plot_confusion_matrix(cv_svm,test_data,test_label)"
      ],
      "execution_count": 306,
      "outputs": [
        {
          "output_type": "execute_result",
          "data": {
            "text/plain": [
              "<sklearn.metrics._plot.confusion_matrix.ConfusionMatrixDisplay at 0x7f5851de0590>"
            ]
          },
          "metadata": {
            "tags": []
          },
          "execution_count": 306
        },
        {
          "output_type": "display_data",
          "data": {
            "image/png": "[encoded data removed]",
            "text/plain": [
              "<Figure size 432x288 with 2 Axes>"
            ]
          },
          "metadata": {
            "tags": [],
            "needs_background": "light"
          }
        }
      ]
    },
    {
      "cell_type": "code",
      "metadata": {
        "colab": {
          "base_uri": "https://localhost:8080/"
        },
        "id": "GEbW2_mBMPZo",
        "outputId": "70fef6ed-ac5a-4f0e-e61e-6c35d115fd63"
      },
      "source": [
        "print(\"Accuracy: \",metrics.accuracy_score(test_label,svm_predicted_label))\r\n",
        "print(\"Precision: \",metrics.precision_score(test_label,svm_predicted_label))\r\n",
        "print(\"Recall: \",metrics.recall_score(test_label,svm_predicted_label))"
      ],
      "execution_count": 307,
      "outputs": [
        {
          "output_type": "stream",
          "text": [
            "Accuracy:  0.9114832535885168\n",
            "Precision:  0.9197080291970803\n",
            "Recall:  0.8289473684210527\n"
          ],
          "name": "stdout"
        }
      ]
    },
    {
      "cell_type": "code",
      "metadata": {
        "id": "wH2uCHnIAPvX"
      },
      "source": [
        "train_data, train_label = make_classification(n_samples=1000, n_features=20, n_informative=15, n_redundant=5, random_state=1)"
      ],
      "execution_count": 308,
      "outputs": []
    },
    {
      "cell_type": "code",
      "metadata": {
        "id": "Py1huzZIAPvh"
      },
      "source": [
        "cv_svm_kfold=KFold(n_splits=10, random_state=1, shuffle=True)"
      ],
      "execution_count": 309,
      "outputs": []
    },
    {
      "cell_type": "code",
      "metadata": {
        "id": "anlQfwRrAPvi"
      },
      "source": [
        "scores_svm = cross_val_score(cv_svm, train_data, train_label, scoring='accuracy')"
      ],
      "execution_count": 310,
      "outputs": []
    },
    {
      "cell_type": "code",
      "metadata": {
        "colab": {
          "base_uri": "https://localhost:8080/"
        },
        "id": "xadEBRKeAPvj",
        "outputId": "f51330d0-e451-489a-85db-f294e407df85"
      },
      "source": [
        "print('Scores: ',scores_svm)\r\n",
        "print('Mean: ',scores_svm.mean())\r\n",
        "print('Standard Deviation: ',scores_svm.std())"
      ],
      "execution_count": 311,
      "outputs": [
        {
          "output_type": "stream",
          "text": [
            "Scores:  [0.96  0.94  0.915 0.955 0.965]\n",
            "Mean:  0.9470000000000001\n",
            "Standard Deviation:  0.018055470085267766\n"
          ],
          "name": "stdout"
        }
      ]
    },
    {
      "cell_type": "markdown",
      "metadata": {
        "id": "qlChq6oMekCR"
      },
      "source": [
        "##Random Forest "
      ]
    },
    {
      "cell_type": "code",
      "metadata": {
        "id": "yLL5Fpa9e35V"
      },
      "source": [
        "from sklearn.ensemble import RandomForestClassifier\r\n",
        "rf=RandomForestClassifier()"
      ],
      "execution_count": 312,
      "outputs": []
    },
    {
      "cell_type": "code",
      "metadata": {
        "id": "svnbfbvINN31"
      },
      "source": [
        "rf_parameters={'n_estimators' : [5,50,350,400],'max_depth' :[2,4,8,16]}"
      ],
      "execution_count": 313,
      "outputs": []
    },
    {
      "cell_type": "code",
      "metadata": {
        "id": "Otw1X_HeNN90"
      },
      "source": [
        "cv_rf=GridSearchCV(rf, rf_parameters, cv=5)"
      ],
      "execution_count": 314,
      "outputs": []
    },
    {
      "cell_type": "code",
      "metadata": {
        "id": "ETfpcfEB1cca"
      },
      "source": [
        "test_data=test[independent_var]\r\n",
        "independent_var=['PassengerId', 'Pclass', 'Sex', 'Age', 'SibSp', 'Parch',\r\n",
        "       'Fare', 'Embarked', 'relatives', 'not_alone', 'Deck', 'Title',\r\n",
        "       'Age_Class', 'Fare_Per_Person']\r\n",
        "\r\n",
        "train_data= train[independent_var]\r\n",
        "train_label=train.Survived\r\n",
        "sc= StandardScaler()\r\n",
        "train_data= sc.fit_transform(train_data)\r\n",
        "test_data=sc.fit_transform(test_data)"
      ],
      "execution_count": 315,
      "outputs": []
    },
    {
      "cell_type": "code",
      "metadata": {
        "colab": {
          "base_uri": "https://localhost:8080/"
        },
        "id": "0b_upx6qNOBg",
        "outputId": "1f4cd356-f3cf-452c-e736-87270f5d636a"
      },
      "source": [
        "cv_rf.fit(train_data, train_label)"
      ],
      "execution_count": 316,
      "outputs": [
        {
          "output_type": "execute_result",
          "data": {
            "text/plain": [
              "GridSearchCV(cv=5, error_score=nan,\n",
              "             estimator=RandomForestClassifier(bootstrap=True, ccp_alpha=0.0,\n",
              "                                              class_weight=None,\n",
              "                                              criterion='gini', max_depth=None,\n",
              "                                              max_features='auto',\n",
              "                                              max_leaf_nodes=None,\n",
              "                                              max_samples=None,\n",
              "                                              min_impurity_decrease=0.0,\n",
              "                                              min_impurity_split=None,\n",
              "                                              min_samples_leaf=1,\n",
              "                                              min_samples_split=2,\n",
              "                                              min_weight_fraction_leaf=0.0,\n",
              "                                              n_estimators=100, n_jobs=None,\n",
              "                                              oob_score=False,\n",
              "                                              random_state=None, verbose=0,\n",
              "                                              warm_start=False),\n",
              "             iid='deprecated', n_jobs=None,\n",
              "             param_grid={'max_depth': [2, 4, 8, 16],\n",
              "                         'n_estimators': [5, 50, 350, 400]},\n",
              "             pre_dispatch='2*n_jobs', refit=True, return_train_score=False,\n",
              "             scoring=None, verbose=0)"
            ]
          },
          "metadata": {
            "tags": []
          },
          "execution_count": 316
        }
      ]
    },
    {
      "cell_type": "code",
      "metadata": {
        "id": "Thw1wQSjNONM"
      },
      "source": [
        "rf_predicted_label=cv_rf.predict(test_data)"
      ],
      "execution_count": 317,
      "outputs": []
    },
    {
      "cell_type": "code",
      "metadata": {
        "colab": {
          "base_uri": "https://localhost:8080/"
        },
        "id": "gvByd5RUOEbu",
        "outputId": "fbf2dd75-4363-44f3-d513-0d423217385b"
      },
      "source": [
        "print('Best Parameters: {}\\n'.format(cv2.best_params_))"
      ],
      "execution_count": 318,
      "outputs": [
        {
          "output_type": "stream",
          "text": [
            "Best Parameters: {'max_depth': 4, 'n_estimators': 50}\n",
            "\n"
          ],
          "name": "stdout"
        }
      ]
    },
    {
      "cell_type": "code",
      "metadata": {
        "id": "y7pxDbyTOOWx"
      },
      "source": [
        "rf_Best_Parameters= {'max_depth': [4], 'n_estimators': [50]}"
      ],
      "execution_count": 319,
      "outputs": []
    },
    {
      "cell_type": "code",
      "metadata": {
        "colab": {
          "base_uri": "https://localhost:8080/"
        },
        "id": "Mx3dLcctOEfM",
        "outputId": "c62a4f5c-237a-40b7-ebc0-a714b414e430"
      },
      "source": [
        "cv_rf=GridSearchCV(rf, rf_Best_Parameters, cv=5)\r\n",
        "cv_rf.fit(train_data, train_label)"
      ],
      "execution_count": 320,
      "outputs": [
        {
          "output_type": "execute_result",
          "data": {
            "text/plain": [
              "GridSearchCV(cv=5, error_score=nan,\n",
              "             estimator=RandomForestClassifier(bootstrap=True, ccp_alpha=0.0,\n",
              "                                              class_weight=None,\n",
              "                                              criterion='gini', max_depth=None,\n",
              "                                              max_features='auto',\n",
              "                                              max_leaf_nodes=None,\n",
              "                                              max_samples=None,\n",
              "                                              min_impurity_decrease=0.0,\n",
              "                                              min_impurity_split=None,\n",
              "                                              min_samples_leaf=1,\n",
              "                                              min_samples_split=2,\n",
              "                                              min_weight_fraction_leaf=0.0,\n",
              "                                              n_estimators=100, n_jobs=None,\n",
              "                                              oob_score=False,\n",
              "                                              random_state=None, verbose=0,\n",
              "                                              warm_start=False),\n",
              "             iid='deprecated', n_jobs=None,\n",
              "             param_grid={'max_depth': [4], 'n_estimators': [50]},\n",
              "             pre_dispatch='2*n_jobs', refit=True, return_train_score=False,\n",
              "             scoring=None, verbose=0)"
            ]
          },
          "metadata": {
            "tags": []
          },
          "execution_count": 320
        }
      ]
    },
    {
      "cell_type": "code",
      "metadata": {
        "id": "LOvNIGGge38C",
        "colab": {
          "base_uri": "https://localhost:8080/"
        },
        "outputId": "1a4c9f4c-72fd-4604-f1e5-6fcc2e3050b5"
      },
      "source": [
        "rf_confusion_matrix= metrics.confusion_matrix(test_label, rf_predicted_label)\r\n",
        "confusion_matrix"
      ],
      "execution_count": 321,
      "outputs": [
        {
          "output_type": "execute_result",
          "data": {
            "text/plain": [
              "array([[254,  12],\n",
              "       [ 26, 126]])"
            ]
          },
          "metadata": {
            "tags": []
          },
          "execution_count": 321
        }
      ]
    },
    {
      "cell_type": "code",
      "metadata": {
        "colab": {
          "base_uri": "https://localhost:8080/",
          "height": 296
        },
        "id": "hexQ_3svN5qy",
        "outputId": "3ea2e589-7a3e-456a-9d84-0ccdce7bb242"
      },
      "source": [
        "plot_confusion_matrix(cv_rf,test_data,test_label)"
      ],
      "execution_count": 322,
      "outputs": [
        {
          "output_type": "execute_result",
          "data": {
            "text/plain": [
              "<sklearn.metrics._plot.confusion_matrix.ConfusionMatrixDisplay at 0x7f5851d57590>"
            ]
          },
          "metadata": {
            "tags": []
          },
          "execution_count": 322
        },
        {
          "output_type": "display_data",
          "data": {
            "image/png": "[encoded data removed]",
            "text/plain": [
              "<Figure size 432x288 with 2 Axes>"
            ]
          },
          "metadata": {
            "tags": [],
            "needs_background": "light"
          }
        }
      ]
    },
    {
      "cell_type": "code",
      "metadata": {
        "colab": {
          "base_uri": "https://localhost:8080/"
        },
        "id": "gTdDkRrwN5tv",
        "outputId": "7b9800ae-cd1b-486e-ee73-7131262a8eef"
      },
      "source": [
        "print(\"Accuracy: \",metrics.accuracy_score(test_label,rf_predicted_label))\r\n",
        "print(\"Precision: \",metrics.precision_score(test_label,rf_predicted_label))\r\n",
        "print(\"Recall: \",metrics.recall_score(test_label,rf_predicted_label))"
      ],
      "execution_count": 323,
      "outputs": [
        {
          "output_type": "stream",
          "text": [
            "Accuracy:  0.9330143540669856\n",
            "Precision:  0.9492753623188406\n",
            "Recall:  0.8618421052631579\n"
          ],
          "name": "stdout"
        }
      ]
    },
    {
      "cell_type": "code",
      "metadata": {
        "id": "sVdNFjFXBkjE"
      },
      "source": [
        "train_data, train_label = make_classification(n_samples=1000, n_features=20, n_informative=15, n_redundant=5, random_state=1)"
      ],
      "execution_count": 324,
      "outputs": []
    },
    {
      "cell_type": "code",
      "metadata": {
        "id": "Sff84asoBkjG"
      },
      "source": [
        "cv_rf_kfold=KFold(n_splits=10, random_state=1, shuffle=True)"
      ],
      "execution_count": 325,
      "outputs": []
    },
    {
      "cell_type": "code",
      "metadata": {
        "id": "yGta0PJVBkjG"
      },
      "source": [
        "scores_rf = cross_val_score(cv_rf, train_data, train_label, scoring='accuracy')"
      ],
      "execution_count": 326,
      "outputs": []
    },
    {
      "cell_type": "code",
      "metadata": {
        "colab": {
          "base_uri": "https://localhost:8080/"
        },
        "id": "TgjknY0EBkjG",
        "outputId": "80c7deb8-d39b-4743-b9ee-b1955b5b4607"
      },
      "source": [
        "print('Scores: ',scores_rf)\r\n",
        "print('Mean: ',scores_rf.mean())\r\n",
        "print('Standard Deviation: ',scores_rf.std())"
      ],
      "execution_count": 327,
      "outputs": [
        {
          "output_type": "stream",
          "text": [
            "Scores:  [0.86  0.86  0.82  0.85  0.895]\n",
            "Mean:  0.857\n",
            "Standard Deviation:  0.02400000000000002\n"
          ],
          "name": "stdout"
        }
      ]
    },
    {
      "cell_type": "markdown",
      "metadata": {
        "id": "cXQpIrTnekJE"
      },
      "source": [
        "##K- Nearest Neighbours"
      ]
    },
    {
      "cell_type": "code",
      "metadata": {
        "id": "RRItEPJWe8Ow"
      },
      "source": [
        "from sklearn.neighbors import KNeighborsClassifier"
      ],
      "execution_count": 328,
      "outputs": []
    },
    {
      "cell_type": "code",
      "metadata": {
        "id": "pO4qwXbk2OdC"
      },
      "source": [
        "test_data=test[independent_var]\r\n",
        "independent_var=['PassengerId', 'Pclass', 'Sex', 'Age', 'SibSp', 'Parch',\r\n",
        "       'Fare', 'Embarked', 'relatives', 'not_alone', 'Deck', 'Title',\r\n",
        "       'Age_Class', 'Fare_Per_Person']\r\n",
        "\r\n",
        "train_data= train[independent_var]\r\n",
        "train_label=train.Survived\r\n",
        "sc= StandardScaler()\r\n",
        "train_data= sc.fit_transform(train_data)\r\n",
        "test_data=sc.fit_transform(test_data)"
      ],
      "execution_count": 329,
      "outputs": []
    },
    {
      "cell_type": "code",
      "metadata": {
        "id": "uhB1Lg5tPK9A"
      },
      "source": [
        "knn = KNeighborsClassifier(n_neighbors=3)"
      ],
      "execution_count": 330,
      "outputs": []
    },
    {
      "cell_type": "code",
      "metadata": {
        "id": "Zf4beh1B3WxK"
      },
      "source": [
        "knn_params={'n_neighbors':[3,5,11,19],'weights':['uniform','distance'],'metric':['euclidean','manhattan']}\r\n",
        "cv_knn= GridSearchCV(knn, knn_params,verbose=1, cv=3,n_jobs=-1)"
      ],
      "execution_count": 331,
      "outputs": []
    },
    {
      "cell_type": "code",
      "metadata": {
        "colab": {
          "base_uri": "https://localhost:8080/"
        },
        "id": "ivEnc6sH35Uq",
        "outputId": "9c5a3e33-a4b2-407d-bb55-ef5ec8f2e5cb"
      },
      "source": [
        "cv_knn.fit(train_data,train_label)"
      ],
      "execution_count": 333,
      "outputs": [
        {
          "output_type": "stream",
          "text": [
            "Fitting 3 folds for each of 16 candidates, totalling 48 fits\n"
          ],
          "name": "stdout"
        },
        {
          "output_type": "stream",
          "text": [
            "[Parallel(n_jobs=-1)]: Using backend LokyBackend with 2 concurrent workers.\n",
            "[Parallel(n_jobs=-1)]: Done  48 out of  48 | elapsed:    1.6s finished\n"
          ],
          "name": "stderr"
        },
        {
          "output_type": "execute_result",
          "data": {
            "text/plain": [
              "GridSearchCV(cv=3, error_score=nan,\n",
              "             estimator=KNeighborsClassifier(algorithm='auto', leaf_size=30,\n",
              "                                            metric='minkowski',\n",
              "                                            metric_params=None, n_jobs=None,\n",
              "                                            n_neighbors=3, p=2,\n",
              "                                            weights='uniform'),\n",
              "             iid='deprecated', n_jobs=-1,\n",
              "             param_grid={'metric': ['euclidean', 'manhattan'],\n",
              "                         'n_neighbors': [3, 5, 11, 19],\n",
              "                         'weights': ['uniform', 'distance']},\n",
              "             pre_dispatch='2*n_jobs', refit=True, return_train_score=False,\n",
              "             scoring=None, verbose=1)"
            ]
          },
          "metadata": {
            "tags": []
          },
          "execution_count": 333
        }
      ]
    },
    {
      "cell_type": "code",
      "metadata": {
        "colab": {
          "base_uri": "https://localhost:8080/"
        },
        "id": "btgT4fvj4M6-",
        "outputId": "ea4818cc-2bff-4df5-d30f-95ca7cc37ba1"
      },
      "source": [
        "print('Best Parameters: {}\\n'.format(cv3.best_params_))"
      ],
      "execution_count": 334,
      "outputs": [
        {
          "output_type": "stream",
          "text": [
            "Best Parameters: {'metric': 'euclidean', 'n_neighbors': 11, 'weights': 'distance'}\n",
            "\n"
          ],
          "name": "stdout"
        }
      ]
    },
    {
      "cell_type": "code",
      "metadata": {
        "id": "NCslzxz34aYD"
      },
      "source": [
        "knn_Best_Params= {'metric': ['euclidean'], 'n_neighbors': [11], 'weights': ['distance']}\r\n",
        "cv_knn= GridSearchCV(knn, knn_Best_Params,verbose=1, cv=3,n_jobs=-1)"
      ],
      "execution_count": 335,
      "outputs": []
    },
    {
      "cell_type": "code",
      "metadata": {
        "colab": {
          "base_uri": "https://localhost:8080/"
        },
        "id": "nZMrDSKH4xHy",
        "outputId": "f2e05500-3a1a-40b2-9c40-9708916b3fee"
      },
      "source": [
        "cv_knn.fit(train_data,train_label)"
      ],
      "execution_count": 337,
      "outputs": [
        {
          "output_type": "stream",
          "text": [
            "Fitting 3 folds for each of 1 candidates, totalling 3 fits\n"
          ],
          "name": "stdout"
        },
        {
          "output_type": "stream",
          "text": [
            "[Parallel(n_jobs=-1)]: Using backend LokyBackend with 2 concurrent workers.\n",
            "[Parallel(n_jobs=-1)]: Done   3 out of   3 | elapsed:    0.0s finished\n"
          ],
          "name": "stderr"
        },
        {
          "output_type": "execute_result",
          "data": {
            "text/plain": [
              "GridSearchCV(cv=3, error_score=nan,\n",
              "             estimator=KNeighborsClassifier(algorithm='auto', leaf_size=30,\n",
              "                                            metric='minkowski',\n",
              "                                            metric_params=None, n_jobs=None,\n",
              "                                            n_neighbors=3, p=2,\n",
              "                                            weights='uniform'),\n",
              "             iid='deprecated', n_jobs=-1,\n",
              "             param_grid={'metric': ['euclidean'], 'n_neighbors': [11],\n",
              "                         'weights': ['distance']},\n",
              "             pre_dispatch='2*n_jobs', refit=True, return_train_score=False,\n",
              "             scoring=None, verbose=1)"
            ]
          },
          "metadata": {
            "tags": []
          },
          "execution_count": 337
        }
      ]
    },
    {
      "cell_type": "code",
      "metadata": {
        "id": "w6n9b-k-PK_w"
      },
      "source": [
        "knn_predicted_label=cv_knn.predict(test_data)"
      ],
      "execution_count": 340,
      "outputs": []
    },
    {
      "cell_type": "code",
      "metadata": {
        "colab": {
          "base_uri": "https://localhost:8080/"
        },
        "id": "EPAlCGsS48fb",
        "outputId": "252f9bb1-2464-496e-f6f4-4bd5208899dc"
      },
      "source": [
        "knn_confusion_matri4= metrics.confusion_matrix(test_label, knn_predicted_label)\r\n",
        "confusion_matrix"
      ],
      "execution_count": 341,
      "outputs": [
        {
          "output_type": "execute_result",
          "data": {
            "text/plain": [
              "array([[254,  12],\n",
              "       [ 26, 126]])"
            ]
          },
          "metadata": {
            "tags": []
          },
          "execution_count": 341
        }
      ]
    },
    {
      "cell_type": "code",
      "metadata": {
        "colab": {
          "base_uri": "https://localhost:8080/",
          "height": 296
        },
        "id": "8LDxdf-T48fx",
        "outputId": "d36897e2-37fc-448f-c290-c736d5364066"
      },
      "source": [
        "plot_confusion_matrix(cv_knn,test_data,test_label)"
      ],
      "execution_count": 342,
      "outputs": [
        {
          "output_type": "execute_result",
          "data": {
            "text/plain": [
              "<sklearn.metrics._plot.confusion_matrix.ConfusionMatrixDisplay at 0x7f5851d50110>"
            ]
          },
          "metadata": {
            "tags": []
          },
          "execution_count": 342
        },
        {
          "output_type": "display_data",
          "data": {
            "image/png": "[encoded data removed]",
            "text/plain": [
              "<Figure size 432x288 with 2 Axes>"
            ]
          },
          "metadata": {
            "tags": [],
            "needs_background": "light"
          }
        }
      ]
    },
    {
      "cell_type": "code",
      "metadata": {
        "colab": {
          "base_uri": "https://localhost:8080/"
        },
        "id": "_Mqw67Bp48fx",
        "outputId": "1133f251-bb94-49c2-928c-555ea5678821"
      },
      "source": [
        "print(\"Accuracy: \",metrics.accuracy_score(test_label,knn_predicted_label))\r\n",
        "print(\"Precision: \",metrics.precision_score(test_label,knn_predicted_label))\r\n",
        "print(\"Recall: \",metrics.recall_score(test_label,knn_predicted_label))"
      ],
      "execution_count": 343,
      "outputs": [
        {
          "output_type": "stream",
          "text": [
            "Accuracy:  0.8588516746411483\n",
            "Precision:  0.8\n",
            "Recall:  0.8157894736842105\n"
          ],
          "name": "stdout"
        }
      ]
    },
    {
      "cell_type": "code",
      "metadata": {
        "id": "3w7gI2NXCN-G"
      },
      "source": [
        "train_data, train_label = make_classification(n_samples=1000, n_features=20, n_informative=15, n_redundant=5, random_state=1)"
      ],
      "execution_count": 344,
      "outputs": []
    },
    {
      "cell_type": "code",
      "metadata": {
        "id": "7qIq8riICN-I"
      },
      "source": [
        "cv_knn_kfold=KFold(n_splits=10, random_state=1, shuffle=True)"
      ],
      "execution_count": 345,
      "outputs": []
    },
    {
      "cell_type": "code",
      "metadata": {
        "colab": {
          "base_uri": "https://localhost:8080/"
        },
        "id": "cvobZtYWCN-I",
        "outputId": "f2fbe354-ca8d-433f-e8f0-5ec9bf82d3ce"
      },
      "source": [
        "scores_knn = cross_val_score(cv_knn, train_data, train_label, scoring='accuracy')"
      ],
      "execution_count": 346,
      "outputs": [
        {
          "output_type": "stream",
          "text": [
            "Fitting 3 folds for each of 1 candidates, totalling 3 fits\n",
            "Fitting 3 folds for each of 1 candidates, totalling 3 fits\n",
            "Fitting 3 folds for each of 1 candidates, totalling 3 fits\n",
            "Fitting 3 folds for each of 1 candidates, totalling 3 fits\n",
            "Fitting 3 folds for each of 1 candidates, totalling 3 fits\n"
          ],
          "name": "stdout"
        },
        {
          "output_type": "stream",
          "text": [
            "[Parallel(n_jobs=-1)]: Using backend LokyBackend with 2 concurrent workers.\n",
            "[Parallel(n_jobs=-1)]: Done   3 out of   3 | elapsed:    0.0s finished\n",
            "[Parallel(n_jobs=-1)]: Using backend LokyBackend with 2 concurrent workers.\n",
            "[Parallel(n_jobs=-1)]: Done   3 out of   3 | elapsed:    0.0s finished\n",
            "[Parallel(n_jobs=-1)]: Using backend LokyBackend with 2 concurrent workers.\n",
            "[Parallel(n_jobs=-1)]: Done   3 out of   3 | elapsed:    0.0s finished\n",
            "[Parallel(n_jobs=-1)]: Using backend LokyBackend with 2 concurrent workers.\n",
            "[Parallel(n_jobs=-1)]: Done   3 out of   3 | elapsed:    0.0s finished\n",
            "[Parallel(n_jobs=-1)]: Using backend LokyBackend with 2 concurrent workers.\n",
            "[Parallel(n_jobs=-1)]: Done   3 out of   3 | elapsed:    0.0s finished\n"
          ],
          "name": "stderr"
        }
      ]
    },
    {
      "cell_type": "code",
      "metadata": {
        "colab": {
          "base_uri": "https://localhost:8080/"
        },
        "id": "ggY8MRPrCN-I",
        "outputId": "e053abd1-cec2-4237-8c26-c62f7e19afd8"
      },
      "source": [
        "print('Scores: ',scores_knn)\r\n",
        "print('Mean: ',scores_knn.mean())\r\n",
        "print('Standard Deviation: ',scores_knn.std())"
      ],
      "execution_count": 347,
      "outputs": [
        {
          "output_type": "stream",
          "text": [
            "Scores:  [0.935 0.905 0.89  0.925 0.955]\n",
            "Mean:  0.922\n",
            "Standard Deviation:  0.022715633383201084\n"
          ],
          "name": "stdout"
        }
      ]
    },
    {
      "cell_type": "markdown",
      "metadata": {
        "id": "6jV5iXY_fIWT"
      },
      "source": [
        "#Machine Learning Model Evaluation"
      ]
    },
    {
      "cell_type": "code",
      "metadata": {
        "id": "fnpNlXLlfL39"
      },
      "source": [
        "results= pd.DataFrame({\r\n",
        "    'Model': ['Logistic Regression','Support Vector Machine','Random Forest','K Nearest Neighbours'],\r\n",
        "    'Score': [scores_lr.mean(),scores_svm.mean(),scores_rf.mean(),scores_knn.mean()]})"
      ],
      "execution_count": 348,
      "outputs": []
    },
    {
      "cell_type": "code",
      "metadata": {
        "id": "PJYT-FDMRldQ"
      },
      "source": [
        "result_df= results.sort_values(by='Score', ascending=False)"
      ],
      "execution_count": 349,
      "outputs": []
    },
    {
      "cell_type": "code",
      "metadata": {
        "id": "X-6YfyyERlgY"
      },
      "source": [
        "result_df= result_df.set_index('Score')"
      ],
      "execution_count": 350,
      "outputs": []
    },
    {
      "cell_type": "code",
      "metadata": {
        "colab": {
          "base_uri": "https://localhost:8080/",
          "height": 196
        },
        "id": "Yk9wHVuJRljY",
        "outputId": "289a7fc2-6eb5-4c0a-df35-148a5084cc37"
      },
      "source": [
        "result_df"
      ],
      "execution_count": 351,
      "outputs": [
        {
          "output_type": "execute_result",
          "data": {
            "text/html": [
              "<div>\n",
              "<style scoped>\n",
              "    .dataframe tbody tr th:only-of-type {\n",
              "        vertical-align: middle;\n",
              "    }\n",
              "\n",
              "    .dataframe tbody tr th {\n",
              "        vertical-align: top;\n",
              "    }\n",
              "\n",
              "    .dataframe thead th {\n",
              "        text-align: right;\n",
              "    }\n",
              "</style>\n",
              "<table border=\"1\" class=\"dataframe\">\n",
              "  <thead>\n",
              "    <tr style=\"text-align: right;\">\n",
              "      <th></th>\n",
              "      <th>Model</th>\n",
              "    </tr>\n",
              "    <tr>\n",
              "      <th>Score</th>\n",
              "      <th></th>\n",
              "    </tr>\n",
              "  </thead>\n",
              "  <tbody>\n",
              "    <tr>\n",
              "      <th>0.947</th>\n",
              "      <td>Support Vector Machine</td>\n",
              "    </tr>\n",
              "    <tr>\n",
              "      <th>0.922</th>\n",
              "      <td>K Nearest Neighbours</td>\n",
              "    </tr>\n",
              "    <tr>\n",
              "      <th>0.865</th>\n",
              "      <td>Logistic Regression</td>\n",
              "    </tr>\n",
              "    <tr>\n",
              "      <th>0.857</th>\n",
              "      <td>Random Forest</td>\n",
              "    </tr>\n",
              "  </tbody>\n",
              "</table>\n",
              "</div>"
            ],
            "text/plain": [
              "                        Model\n",
              "Score                        \n",
              "0.947  Support Vector Machine\n",
              "0.922    K Nearest Neighbours\n",
              "0.865     Logistic Regression\n",
              "0.857           Random Forest"
            ]
          },
          "metadata": {
            "tags": []
          },
          "execution_count": 351
        }
      ]
    },
    {
      "cell_type": "markdown",
      "metadata": {
        "id": "sl-jnAgJC7cV"
      },
      "source": [
        "The best Machine Learning Model for this dataset is **Support Vector Machine**"
      ]
    },
    {
      "cell_type": "code",
      "metadata": {
        "id": "zNDB_F6nDVGL"
      },
      "source": [
        "test_data=test[independent_var]\r\n",
        "independent_var=['PassengerId', 'Pclass', 'Sex', 'Age', 'SibSp', 'Parch',\r\n",
        "       'Fare', 'Embarked', 'relatives', 'not_alone', 'Deck', 'Title',\r\n",
        "       'Age_Class', 'Fare_Per_Person']\r\n",
        "\r\n",
        "train_data= train[independent_var]\r\n",
        "train_label=train.Survived\r\n",
        "sc= StandardScaler()\r\n",
        "train_data= sc.fit_transform(train_data)\r\n",
        "test_data=sc.fit_transform(test_data)"
      ],
      "execution_count": 353,
      "outputs": []
    },
    {
      "cell_type": "code",
      "metadata": {
        "id": "k5lGKMOcfL6w",
        "colab": {
          "base_uri": "https://localhost:8080/",
          "height": 300
        },
        "outputId": "9dddba76-dbc0-4f80-91c7-45bd5d70806b"
      },
      "source": [
        "plot_confusion_matrix(cv_svm,train_data,train_label)"
      ],
      "execution_count": 354,
      "outputs": [
        {
          "output_type": "execute_result",
          "data": {
            "text/plain": [
              "<sklearn.metrics._plot.confusion_matrix.ConfusionMatrixDisplay at 0x7f5855278990>"
            ]
          },
          "metadata": {
            "tags": []
          },
          "execution_count": 354
        },
        {
          "output_type": "display_data",
          "data": {
            "image/png": "[encoded data removed]",
            "text/plain": [
              "<Figure size 432x288 with 2 Axes>"
            ]
          },
          "metadata": {
            "tags": [],
            "needs_background": "light"
          }
        }
      ]
    },
    {
      "cell_type": "code",
      "metadata": {
        "id": "WsF9FAXNXCqP",
        "colab": {
          "base_uri": "https://localhost:8080/"
        },
        "outputId": "97b27007-ea97-430c-e2d8-0663a86bb8c3"
      },
      "source": [
        "from sklearn.metrics import precision_score, recall_score\r\n",
        "print('Precision: ',precision_score(test_label,svm_predicted_label))\r\n",
        "print('Recall: ',recall_score(test_label,svm_predicted_label))"
      ],
      "execution_count": 356,
      "outputs": [
        {
          "output_type": "stream",
          "text": [
            "Precision:  0.9197080291970803\n",
            "Recall:  0.8289473684210527\n"
          ],
          "name": "stdout"
        }
      ]
    },
    {
      "cell_type": "code",
      "metadata": {
        "colab": {
          "base_uri": "https://localhost:8080/"
        },
        "id": "yovOw-pvDrjs",
        "outputId": "1f348df5-5afd-4f88-b41a-1ef346857b5e"
      },
      "source": [
        "from sklearn.metrics import f1_score\r\n",
        "f1_score(test_label,svm_predicted_label)"
      ],
      "execution_count": 357,
      "outputs": [
        {
          "output_type": "execute_result",
          "data": {
            "text/plain": [
              "0.8719723183391003"
            ]
          },
          "metadata": {
            "tags": []
          },
          "execution_count": 357
        }
      ]
    },
    {
      "cell_type": "code",
      "metadata": {
        "id": "9i35krsnGJ3l"
      },
      "source": [
        ""
      ],
      "execution_count": null,
      "outputs": []
    }
  ]
}